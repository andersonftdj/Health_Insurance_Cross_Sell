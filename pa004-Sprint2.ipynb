{
 "cells": [
  {
   "cell_type": "markdown",
   "id": "4293a8c9",
   "metadata": {
    "heading_collapsed": true
   },
   "source": [
    "# Cross-Sell Insurance"
   ]
  },
  {
   "cell_type": "markdown",
   "id": "28f4cd9d",
   "metadata": {},
   "source": [
    "# 0.0. IMPORTS"
   ]
  },
  {
   "cell_type": "code",
   "execution_count": 49,
   "id": "1f8643c6",
   "metadata": {
    "ExecuteTime": {
     "end_time": "2022-09-15T10:55:37.866434Z",
     "start_time": "2022-09-15T10:55:37.847449Z"
    }
   },
   "outputs": [],
   "source": [
    "import os\n",
    "import numpy                   as np\n",
    "import pandas                  as pd\n",
    "import pickle\n",
    "import seaborn                 as sns\n",
    "import warnings\n",
    "import psycopg2                as pg\n",
    "import scikitplot              as skplt\n",
    "import credentials.credentials as c\n",
    "\n",
    "\n",
    "from sklearn                   import ensemble, neighbors\n",
    "from sklearn.tree              import DecisionTreeClassifier\n",
    "from matplotlib                import pyplot as plt\n",
    "from sklearn.linear_model      import LogisticRegression\n",
    "from sklearn.preprocessing     import StandardScaler, MinMaxScaler, LabelEncoder\n",
    "from sklearn.model_selection   import train_test_split\n",
    "\n",
    "path = os.getcwd().replace('\\\\', '/')\n",
    "warnings.filterwarnings(\"ignore\")\n",
    "%matplotlib inline"
   ]
  },
  {
   "cell_type": "markdown",
   "id": "88b03c6b",
   "metadata": {},
   "source": [
    "## 0.1. Helper Functions"
   ]
  },
  {
   "cell_type": "code",
   "execution_count": null,
   "id": "42e71c93",
   "metadata": {
    "ExecuteTime": {
     "end_time": "2022-09-09T10:01:46.600459Z",
     "start_time": "2022-09-09T10:01:44.247810Z"
    }
   },
   "outputs": [],
   "source": []
  },
  {
   "cell_type": "markdown",
   "id": "df6ebc6d",
   "metadata": {},
   "source": [
    "## 0.2. Loading Data"
   ]
  },
  {
   "cell_type": "code",
   "execution_count": 3,
   "id": "78825de0",
   "metadata": {
    "ExecuteTime": {
     "end_time": "2022-09-15T10:22:44.795415Z",
     "start_time": "2022-09-15T10:22:44.309713Z"
    }
   },
   "outputs": [],
   "source": [
    "# # Criando a conexão e salvando arquivo\n",
    "\n",
    "# conn = pg.connect( user=c.username, \n",
    "#                    password=c.password,\n",
    "#                    host=c.host,\n",
    "#                    port=c.port,\n",
    "#                    database=c.database)\n",
    "# query =  \"\"\"\n",
    "#     SELECT *\n",
    "#     FROM pa004.users u LEFT JOIN pa004.vehicle   v ON u.id=v.id\n",
    "#                        LEFT JOIN pa004.insurance i ON u.id=i.id\n",
    "# \"\"\"\n",
    "# df_raw = pd.read_sql(query, conn)\n",
    "# df_raw = df_raw.loc[:, ~df_raw.columns.duplicated()]\n",
    "# path = os.getcwd().replace('\\\\', '/') + '/data/train.csv'\n",
    "# df_raw.to_csv(path, index=False)\n",
    "\n",
    "df_raw = pd.read_csv('data/train.csv')"
   ]
  },
  {
   "cell_type": "markdown",
   "id": "6cd4ccaa",
   "metadata": {},
   "source": [
    "# 1.0. DESCRIÇÃO DOS DADOS"
   ]
  },
  {
   "cell_type": "code",
   "execution_count": 4,
   "id": "e8b4e9a4",
   "metadata": {
    "ExecuteTime": {
     "end_time": "2022-09-15T10:22:44.842293Z",
     "start_time": "2022-09-15T10:22:44.799405Z"
    }
   },
   "outputs": [],
   "source": [
    "df1 = df_raw.copy()"
   ]
  },
  {
   "cell_type": "markdown",
   "id": "b0d36005",
   "metadata": {
    "heading_collapsed": true
   },
   "source": [
    "## 1.1. Renomeando as colunas"
   ]
  },
  {
   "cell_type": "code",
   "execution_count": 5,
   "id": "28d74d15",
   "metadata": {
    "ExecuteTime": {
     "end_time": "2022-09-15T10:22:44.889169Z",
     "start_time": "2022-09-15T10:22:44.850271Z"
    },
    "hidden": true
   },
   "outputs": [
    {
     "data": {
      "text/plain": [
       "Index(['id', 'gender', 'age', 'region_code', 'policy_sales_channel',\n",
       "       'driving_license', 'vehicle_age', 'vehicle_damage',\n",
       "       'previously_insured', 'annual_premium', 'vintage', 'response'],\n",
       "      dtype='object')"
      ]
     },
     "execution_count": 5,
     "metadata": {},
     "output_type": "execute_result"
    }
   ],
   "source": [
    "cols = df1.columns\n",
    "cols"
   ]
  },
  {
   "cell_type": "markdown",
   "id": "3f2f0bd1",
   "metadata": {
    "hidden": true
   },
   "source": [
    "- Todas as colunas já estão em snake_case"
   ]
  },
  {
   "cell_type": "markdown",
   "id": "16a1b54d",
   "metadata": {
    "heading_collapsed": true
   },
   "source": [
    "## 1.2. Dimensão dos dados"
   ]
  },
  {
   "cell_type": "code",
   "execution_count": 6,
   "id": "2aaf476a",
   "metadata": {
    "ExecuteTime": {
     "end_time": "2022-09-15T10:22:44.920082Z",
     "start_time": "2022-09-15T10:22:44.895154Z"
    },
    "hidden": true
   },
   "outputs": [
    {
     "name": "stdout",
     "output_type": "stream",
     "text": [
      "Número de Linhas: 381109\n",
      "Número de Colunas: 12\n"
     ]
    }
   ],
   "source": [
    "df1.shape\n",
    "print(\"Número de Linhas: {}\".format(df1.shape[0]))\n",
    "print(\"Número de Colunas: {}\".format(df1.shape[1]))"
   ]
  },
  {
   "cell_type": "markdown",
   "id": "06bc48f7",
   "metadata": {
    "heading_collapsed": true
   },
   "source": [
    "## 1.3. Tipo de Dados"
   ]
  },
  {
   "cell_type": "code",
   "execution_count": 7,
   "id": "af710263",
   "metadata": {
    "ExecuteTime": {
     "end_time": "2022-09-15T10:22:44.951998Z",
     "start_time": "2022-09-15T10:22:44.924072Z"
    },
    "hidden": true
   },
   "outputs": [
    {
     "data": {
      "text/plain": [
       "id                        int64\n",
       "gender                   object\n",
       "age                       int64\n",
       "region_code             float64\n",
       "policy_sales_channel    float64\n",
       "driving_license           int64\n",
       "vehicle_age              object\n",
       "vehicle_damage           object\n",
       "previously_insured        int64\n",
       "annual_premium          float64\n",
       "vintage                   int64\n",
       "response                  int64\n",
       "dtype: object"
      ]
     },
     "execution_count": 7,
     "metadata": {},
     "output_type": "execute_result"
    }
   ],
   "source": [
    "df1.dtypes"
   ]
  },
  {
   "cell_type": "markdown",
   "id": "24704cfd",
   "metadata": {
    "heading_collapsed": true
   },
   "source": [
    "## 1.4. Valores Ausentes"
   ]
  },
  {
   "cell_type": "code",
   "execution_count": 8,
   "id": "3a47d6d2",
   "metadata": {
    "ExecuteTime": {
     "end_time": "2022-09-15T10:22:45.283462Z",
     "start_time": "2022-09-15T10:22:44.957984Z"
    },
    "hidden": true
   },
   "outputs": [
    {
     "data": {
      "text/plain": [
       "id                      0\n",
       "gender                  0\n",
       "age                     0\n",
       "region_code             0\n",
       "policy_sales_channel    0\n",
       "driving_license         0\n",
       "vehicle_age             0\n",
       "vehicle_damage          0\n",
       "previously_insured      0\n",
       "annual_premium          0\n",
       "vintage                 0\n",
       "response                0\n",
       "dtype: int64"
      ]
     },
     "execution_count": 8,
     "metadata": {},
     "output_type": "execute_result"
    }
   ],
   "source": [
    "df1.isnull().sum()"
   ]
  },
  {
   "cell_type": "markdown",
   "id": "511c4995",
   "metadata": {
    "heading_collapsed": true
   },
   "source": [
    "## 1.5. Alterando Tipo de Dados"
   ]
  },
  {
   "cell_type": "code",
   "execution_count": 9,
   "id": "a4601bb3",
   "metadata": {
    "ExecuteTime": {
     "end_time": "2022-09-15T10:22:45.329339Z",
     "start_time": "2022-09-15T10:22:45.287451Z"
    },
    "hidden": true
   },
   "outputs": [],
   "source": [
    "df1.region_code = df1.region_code.astype( \"int64\")\n",
    "df1.annual_premium = df1.annual_premium.astype( \"int64\")\n",
    "df1.policy_sales_channel = df1.policy_sales_channel.astype( \"int64\")"
   ]
  },
  {
   "cell_type": "markdown",
   "id": "efdc6008",
   "metadata": {},
   "source": [
    "## 1.6. Descrição das Colunas"
   ]
  },
  {
   "cell_type": "markdown",
   "id": "e90d852a",
   "metadata": {},
   "source": [
    "|VARIÁVEL| DEFINIÇÃO|\n",
    "|:-------|:---------|\n",
    "| id |\tID único para o cliente |\n",
    "| Gender |\tGênero do cliente|\n",
    "| Age |\tIdade do Cliente|\n",
    "| Driving_License |\t0: Cliente não tem habilitação para dirigir, 1: Cliente tem habilitação para dirigir|\n",
    "| Region_Code |\tCódigo único da região do cliente|\n",
    "| Previously_Insured |\t1: Cliente já possui seguro veicular, 0: Cliente não possui seguro veicular|\n",
    "| Vehicle_Age |\tIdade do Veículo|\n",
    "| Vehicle_Damage |\t1: O cliente já teve seu veículo danificado no passado. 0: O cliente não teve seu veículo danificado no passado.|\n",
    "| Annual_Premium |\tO Valor que o cliente precisa pagar anualmente para ter o seguro.|\n",
    "| PolicySalesChannel |\tCódigo anonimizado para o canal de divulgação ao cliente, ou seja, correios, telefone, pessoal, etc.|\n",
    "| Vintage |\tNúmero de dias que o cliente está associado a companhia|\n",
    "| Response |\t1: Cliente tem interesse, 0: Cliente não tem interesse|"
   ]
  },
  {
   "cell_type": "markdown",
   "id": "0d0aa2dc",
   "metadata": {},
   "source": [
    "## 1.7. Estatística Descritiva\n"
   ]
  },
  {
   "cell_type": "code",
   "execution_count": 16,
   "id": "048e59ea",
   "metadata": {
    "ExecuteTime": {
     "end_time": "2022-09-15T10:24:40.121657Z",
     "start_time": "2022-09-15T10:24:40.093702Z"
    }
   },
   "outputs": [],
   "source": [
    "num_att = df1[['age', 'annual_premium', 'vintage']]\n",
    "cat_att = df1[['driving_license', 'previously_insured', 'vehicle_damage', 'vehicle_age', 'gender', 'region_code', 'policy_sales_channel' ]]"
   ]
  },
  {
   "cell_type": "markdown",
   "id": "d77e9ef2",
   "metadata": {},
   "source": [
    "### 1.7.1. Atributos Numericos \n"
   ]
  },
  {
   "cell_type": "code",
   "execution_count": 17,
   "id": "5f5f7d23",
   "metadata": {
    "ExecuteTime": {
     "end_time": "2022-09-15T10:24:46.958211Z",
     "start_time": "2022-09-15T10:24:46.701889Z"
    },
    "scrolled": true
   },
   "outputs": [
    {
     "data": {
      "text/html": [
       "<div>\n",
       "<style scoped>\n",
       "    .dataframe tbody tr th:only-of-type {\n",
       "        vertical-align: middle;\n",
       "    }\n",
       "\n",
       "    .dataframe tbody tr th {\n",
       "        vertical-align: top;\n",
       "    }\n",
       "\n",
       "    .dataframe thead th {\n",
       "        text-align: right;\n",
       "    }\n",
       "</style>\n",
       "<table border=\"1\" class=\"dataframe\">\n",
       "  <thead>\n",
       "    <tr style=\"text-align: right;\">\n",
       "      <th></th>\n",
       "      <th>Atributos</th>\n",
       "      <th>min</th>\n",
       "      <th>max</th>\n",
       "      <th>range</th>\n",
       "      <th>media</th>\n",
       "      <th>mediana</th>\n",
       "      <th>std</th>\n",
       "      <th>skew</th>\n",
       "      <th>kurtosis</th>\n",
       "    </tr>\n",
       "  </thead>\n",
       "  <tbody>\n",
       "    <tr>\n",
       "      <th>0</th>\n",
       "      <td>age</td>\n",
       "      <td>20.0</td>\n",
       "      <td>85.0</td>\n",
       "      <td>65.0</td>\n",
       "      <td>38.822584</td>\n",
       "      <td>36.0</td>\n",
       "      <td>15.511591</td>\n",
       "      <td>0.672539</td>\n",
       "      <td>-0.565655</td>\n",
       "    </tr>\n",
       "    <tr>\n",
       "      <th>1</th>\n",
       "      <td>annual_premium</td>\n",
       "      <td>2630.0</td>\n",
       "      <td>540165.0</td>\n",
       "      <td>537535.0</td>\n",
       "      <td>30564.389581</td>\n",
       "      <td>31669.0</td>\n",
       "      <td>17213.132474</td>\n",
       "      <td>1.766087</td>\n",
       "      <td>34.004569</td>\n",
       "    </tr>\n",
       "    <tr>\n",
       "      <th>2</th>\n",
       "      <td>vintage</td>\n",
       "      <td>10.0</td>\n",
       "      <td>299.0</td>\n",
       "      <td>289.0</td>\n",
       "      <td>154.347397</td>\n",
       "      <td>154.0</td>\n",
       "      <td>83.671194</td>\n",
       "      <td>0.003030</td>\n",
       "      <td>-1.200688</td>\n",
       "    </tr>\n",
       "  </tbody>\n",
       "</table>\n",
       "</div>"
      ],
      "text/plain": [
       "        Atributos     min       max     range         media  mediana  \\\n",
       "0             age    20.0      85.0      65.0     38.822584     36.0   \n",
       "1  annual_premium  2630.0  540165.0  537535.0  30564.389581  31669.0   \n",
       "2         vintage    10.0     299.0     289.0    154.347397    154.0   \n",
       "\n",
       "            std      skew   kurtosis  \n",
       "0     15.511591  0.672539  -0.565655  \n",
       "1  17213.132474  1.766087  34.004569  \n",
       "2     83.671194  0.003030  -1.200688  "
      ]
     },
     "execution_count": 17,
     "metadata": {},
     "output_type": "execute_result"
    }
   ],
   "source": [
    "# Medidas de tendencia central\n",
    "ct1 = pd.DataFrame( num_att.apply(np.mean) ).T\n",
    "ct2 = pd.DataFrame( num_att.apply(np.median) ).T\n",
    "\n",
    "# Medidas de Dispersão - std, min, max, range, skew, kurtosis\n",
    "\n",
    "d1 = pd.DataFrame( num_att.apply(np.std) ).T\n",
    "d2 = pd.DataFrame( num_att.apply(min) ).T\n",
    "d3 = pd.DataFrame( num_att.apply(max) ).T\n",
    "d4 = pd.DataFrame( num_att.apply( lambda x: x.max() - x.min() ) ).T\n",
    "d5 = pd.DataFrame( num_att.apply( lambda x: x.skew() ) ).T\n",
    "d6 = pd.DataFrame( num_att.apply( lambda x: x.kurtosis() ) ).T\n",
    "                  \n",
    "m = pd.concat( [d2, d3, d4, ct1, ct2, d1, d5, d6] ).T.reset_index()\n",
    "m.columns = [\"Atributos\", 'min', 'max', 'range', 'media', 'mediana', 'std', 'skew', 'kurtosis']\n",
    "m"
   ]
  },
  {
   "cell_type": "code",
   "execution_count": 12,
   "id": "b30534d5",
   "metadata": {
    "ExecuteTime": {
     "end_time": "2022-09-15T10:22:54.655201Z",
     "start_time": "2022-09-15T10:22:46.687420Z"
    }
   },
   "outputs": [
    {
     "data": {
      "image/png": "[encoded data removed]",
      "text/plain": [
       "<Figure size 576x720 with 3 Axes>"
      ]
     },
     "metadata": {
      "needs_background": "light"
     },
     "output_type": "display_data"
    }
   ],
   "source": [
    "fig, axs = plt.subplots(3, figsize = (8,10))\n",
    "sns.distplot(df1['age'], ax=axs[0], bins=6)\n",
    "\n",
    "plt.subplot(3,1,2)\n",
    "\n",
    "sns.distplot(df1[df1['annual_premium'] <100000]['annual_premium'], ax=axs[1])\n",
    "\n",
    "plt.subplot(3,1,3)\n",
    "sns.distplot(df1['vintage'], ax=axs[2]);"
   ]
  },
  {
   "cell_type": "code",
   "execution_count": 18,
   "id": "d3cf42dd",
   "metadata": {
    "ExecuteTime": {
     "end_time": "2022-09-15T10:24:53.408418Z",
     "start_time": "2022-09-15T10:24:53.346072Z"
    }
   },
   "outputs": [
    {
     "name": "stdout",
     "output_type": "stream",
     "text": [
      "Percentual entre 19-30: 42.37%\n",
      "Percentual entre 30-40: 14.47%\n",
      "Percentual entre 40-50: 19.93%\n",
      "Percentual entre 50-60: 11.89%\n",
      "Percentual entre 60-70: 7.3%\n",
      "Percentual entre 70-80: 4.01%\n",
      "Percentual entre 80-90: 0.03%\n"
     ]
    }
   ],
   "source": [
    "bins = pd.cut( df1['age'], [19, 30, 40, 50, 60, 70, 80, 90])\n",
    "\n",
    "aux = (df1.groupby(bins)['age'].size() / df1.shape[0] * 100)\n",
    "\n",
    "for i in range( bins.nunique() ):\n",
    "    intervalo = str( aux.index[i].left ) + \"-\" + str( aux.index[i].right )\n",
    "    percentual = aux.values[i]\n",
    "    print(f\"Percentual entre { intervalo }: { round(percentual,2) }%\")\n",
    "    "
   ]
  },
  {
   "cell_type": "markdown",
   "id": "3f74f12c",
   "metadata": {},
   "source": [
    "**Resumo da Descrição dos Dados Numéricos**\n",
    "\n",
    " 1. **Age**\n",
    " \n",
    "     - As pessoas que responderam a pesquisa tem entre 20 a 85 anos de idade.\n",
    "     - A maior Concentração de idade está entre 19-30 anos com 42% seguido de 40-50 anos com quase 20%.\n",
    " \n",
    " \n",
    " \n",
    " 2. **Annual_premium**\n",
    "     \n",
    "     - O menor valor de pagamento anual é de 2630 e o maior é de 537535\n",
    "    \n",
    "     - Há um pico em 2630, que é o valor mínimo, e uma alta concentração de pessoas que pagam entre 20000 e 60000.\n",
    " \n",
    "\n",
    " \n",
    " 3. **Vintage**\n",
    " \n",
    "     - Variável com uma ótima distribuição com valores variando entre 10 e 299 dias.\n",
    "     \n",
    "    \n",
    "****    \n",
    "\n"
   ]
  },
  {
   "cell_type": "markdown",
   "id": "295786ad",
   "metadata": {},
   "source": [
    "### 1.7.2. Atributos Categóricos"
   ]
  },
  {
   "cell_type": "code",
   "execution_count": 64,
   "id": "1ceddfce",
   "metadata": {
    "ExecuteTime": {
     "end_time": "2022-09-15T11:19:34.693023Z",
     "start_time": "2022-09-15T11:19:34.558380Z"
    }
   },
   "outputs": [
    {
     "data": {
      "text/plain": [
       "driving_license           2\n",
       "previously_insured        2\n",
       "vehicle_damage            2\n",
       "vehicle_age               3\n",
       "gender                    2\n",
       "region_code              53\n",
       "policy_sales_channel    155\n",
       "dtype: int64"
      ]
     },
     "execution_count": 64,
     "metadata": {},
     "output_type": "execute_result"
    }
   ],
   "source": [
    "cat_att.nunique()"
   ]
  },
  {
   "cell_type": "markdown",
   "id": "591a3be8",
   "metadata": {},
   "source": [
    "**Resumo da Descrição dos Dados Numéricos**\n",
    "\n",
    "**1. driving_license**\n",
    "          \n",
    "    - Duas categorias: 0 ou 1\n",
    "    - 99,7% das pessoas tem Carteira de Habilitação\n",
    "     \n",
    " \n",
    " **2. previously_insured**\n",
    "     \n",
    "     - Duas categorias: 0 ou 1 \n",
    "     - 45,8% Das pessoas tem Seguro de Carro\n",
    "     \n",
    " **3. vehicle_damage**\n",
    "     \n",
    "     - Duas categorias: 0 ou 1 \n",
    "     - 50,5% Das pessoas já teve seu veículo danificado\n",
    "     \n",
    " **4. vehicle_age**\n",
    "     \n",
    "     - Três categorias: < 1 Year ou *1-2 Year* ou *> 2 Years*\n",
    "     - 52,5% tem o veículo entre 1 e 2 anos, e 43.2% a menos de 1 ano.\n",
    "     \n",
    " \n",
    " \n",
    " **FAZER PARA GÊNERO E VERIFICAR AS DUAS VAR CATEGÓRICAS FALTANTES, REGION CODE E POLICY SALES CHANNEL**"
   ]
  },
  {
   "cell_type": "code",
   "execution_count": 79,
   "id": "3704baee",
   "metadata": {
    "ExecuteTime": {
     "end_time": "2022-09-15T11:32:33.090954Z",
     "start_time": "2022-09-15T11:32:33.060034Z"
    }
   },
   "outputs": [
    {
     "data": {
      "text/plain": [
       "array(['< 1 Year', '1-2 Year', '> 2 Years'], dtype=object)"
      ]
     },
     "execution_count": 79,
     "metadata": {},
     "output_type": "execute_result"
    }
   ],
   "source": [
    "df1.vehicle_age.unique()"
   ]
  },
  {
   "cell_type": "code",
   "execution_count": 78,
   "id": "6f0937d7",
   "metadata": {
    "ExecuteTime": {
     "end_time": "2022-09-15T11:31:39.744735Z",
     "start_time": "2022-09-15T11:31:39.659922Z"
    }
   },
   "outputs": [
    {
     "data": {
      "text/html": [
       "<div>\n",
       "<style scoped>\n",
       "    .dataframe tbody tr th:only-of-type {\n",
       "        vertical-align: middle;\n",
       "    }\n",
       "\n",
       "    .dataframe tbody tr th {\n",
       "        vertical-align: top;\n",
       "    }\n",
       "\n",
       "    .dataframe thead th {\n",
       "        text-align: right;\n",
       "    }\n",
       "</style>\n",
       "<table border=\"1\" class=\"dataframe\">\n",
       "  <thead>\n",
       "    <tr style=\"text-align: right;\">\n",
       "      <th></th>\n",
       "      <th>id</th>\n",
       "    </tr>\n",
       "  </thead>\n",
       "  <tbody>\n",
       "    <tr>\n",
       "      <th>0</th>\n",
       "      <td>52.561341</td>\n",
       "    </tr>\n",
       "    <tr>\n",
       "      <th>1</th>\n",
       "      <td>43.238549</td>\n",
       "    </tr>\n",
       "    <tr>\n",
       "      <th>2</th>\n",
       "      <td>4.200111</td>\n",
       "    </tr>\n",
       "  </tbody>\n",
       "</table>\n",
       "</div>"
      ],
      "text/plain": [
       "          id\n",
       "0  52.561341\n",
       "1  43.238549\n",
       "2   4.200111"
      ]
     },
     "execution_count": 78,
     "metadata": {},
     "output_type": "execute_result"
    }
   ],
   "source": [
    "df1[['vehicle_age', 'id']].groupby('vehicle_age').count().reset_index(drop=True) / df1.shape[0] * 100"
   ]
  },
  {
   "cell_type": "code",
   "execution_count": 51,
   "id": "0bec5569",
   "metadata": {
    "ExecuteTime": {
     "end_time": "2022-09-15T10:56:26.627628Z",
     "start_time": "2022-09-15T10:56:24.627077Z"
    },
    "hide_input": false
   },
   "outputs": [
    {
     "data": {
      "text/plain": [
       "<AxesSubplot:xlabel='gender', ylabel='count'>"
      ]
     },
     "execution_count": 51,
     "metadata": {},
     "output_type": "execute_result"
    },
    {
     "data": {
      "image/png": "[encoded data removed]",
      "text/plain": [
       "<Figure size 1152x576 with 6 Axes>"
      ]
     },
     "metadata": {
      "needs_background": "light"
     },
     "output_type": "display_data"
    }
   ],
   "source": [
    "fig, axs = plt.subplots(2, 3, figsize=(16,8))\n",
    "\n",
    "\n",
    "sns.countplot( x='driving_license',      data=df1, ax = axs[0][0])\n",
    "sns.countplot( x='previously_insured',   data=df1, ax = axs[0][1])\n",
    "sns.countplot( x='vehicle_damage',       data=df1, ax = axs[0][2])\n",
    "sns.countplot( x='vehicle_age',          data=df1, ax = axs[1][0])\n",
    "sns.countplot( x='gender',               data=df1, ax = axs[1][1])\n"
   ]
  },
  {
   "cell_type": "code",
   "execution_count": null,
   "id": "cb8cf316",
   "metadata": {},
   "outputs": [],
   "source": []
  },
  {
   "cell_type": "code",
   "execution_count": 62,
   "id": "70465df0",
   "metadata": {
    "ExecuteTime": {
     "end_time": "2022-09-15T11:15:28.806345Z",
     "start_time": "2022-09-15T11:15:28.256377Z"
    }
   },
   "outputs": [
    {
     "data": {
      "text/plain": [
       "<AxesSubplot:xlabel='region_code', ylabel='count'>"
      ]
     },
     "execution_count": 62,
     "metadata": {},
     "output_type": "execute_result"
    },
    {
     "data": {
      "image/png": "[encoded data removed]",
      "text/plain": [
       "<Figure size 1296x432 with 1 Axes>"
      ]
     },
     "metadata": {
      "needs_background": "light"
     },
     "output_type": "display_data"
    }
   ],
   "source": [
    "fig, axs = plt.subplots( figsize=(18,6))\n",
    "sns.countplot( x='region_code',          data=df1, ax = axs)\n",
    "# sns.countplot( x='policy_sales_channel', data=df1, ax = axs[1])"
   ]
  },
  {
   "cell_type": "code",
   "execution_count": null,
   "id": "84b8a240",
   "metadata": {},
   "outputs": [],
   "source": []
  },
  {
   "cell_type": "code",
   "execution_count": null,
   "id": "15abc843",
   "metadata": {},
   "outputs": [],
   "source": []
  },
  {
   "cell_type": "markdown",
   "id": "cda4ba4b",
   "metadata": {
    "heading_collapsed": true
   },
   "source": [
    "# 2.0. ENGENHARIA DE FEATURES"
   ]
  },
  {
   "cell_type": "code",
   "execution_count": 12,
   "id": "737648a3",
   "metadata": {
    "ExecuteTime": {
     "end_time": "2022-09-09T10:28:52.198523Z",
     "start_time": "2022-09-09T10:28:52.120690Z"
    },
    "hidden": true
   },
   "outputs": [
    {
     "data": {
      "text/plain": [
       "gender                             [Male, Female]\n",
       "vehicle_age       [< 1 Year, 1-2 Year, > 2 Years]\n",
       "vehicle_damage                          [Yes, No]\n",
       "dtype: object"
      ]
     },
     "execution_count": 12,
     "metadata": {},
     "output_type": "execute_result"
    }
   ],
   "source": [
    "df2 = df1.copy()\n",
    "cat_att.apply( lambda x: x.unique() )"
   ]
  },
  {
   "cell_type": "code",
   "execution_count": 13,
   "id": "00168c17",
   "metadata": {
    "ExecuteTime": {
     "end_time": "2022-09-09T10:28:52.451308Z",
     "start_time": "2022-09-09T10:28:52.200473Z"
    },
    "hidden": true
   },
   "outputs": [],
   "source": [
    "# vehicle_age\n",
    "df2['vehicle_age'] = df2['vehicle_age'].apply( \n",
    "    lambda x: 'over_2_years' if x == '> 2 Years' else 'below_1_year' \n",
    "                             if x == '< 1 Year' else 'between_1_2_years' )\n",
    "\n",
    "# vehicle demage\n",
    "df2['vehicle_damage'] = df2['vehicle_damage'].apply( lambda x: 1 if x == 'Yes' else 0 )"
   ]
  },
  {
   "cell_type": "markdown",
   "id": "fe901d0c",
   "metadata": {
    "heading_collapsed": true
   },
   "source": [
    "# 3.0. FILTRAGEM DOS DADOS"
   ]
  },
  {
   "cell_type": "code",
   "execution_count": 14,
   "id": "c6e561c9",
   "metadata": {
    "ExecuteTime": {
     "end_time": "2022-09-09T10:28:52.529430Z",
     "start_time": "2022-09-09T10:28:52.455167Z"
    },
    "hidden": true
   },
   "outputs": [],
   "source": [
    "df3 = df2.copy()"
   ]
  },
  {
   "cell_type": "markdown",
   "id": "afd0831d",
   "metadata": {},
   "source": [
    "# 4.0. ANÁLISE EXPLORATÓRIA DE DADOS"
   ]
  },
  {
   "cell_type": "code",
   "execution_count": 15,
   "id": "f0311fb9",
   "metadata": {
    "ExecuteTime": {
     "end_time": "2022-09-09T10:28:52.561283Z",
     "start_time": "2022-09-09T10:28:52.532321Z"
    }
   },
   "outputs": [],
   "source": [
    "df4 = df3.copy()"
   ]
  },
  {
   "cell_type": "markdown",
   "id": "9666b90e",
   "metadata": {
    "ExecuteTime": {
     "end_time": "2022-08-12T02:01:45.809559Z",
     "start_time": "2022-08-12T02:01:45.804570Z"
    }
   },
   "source": [
    "## 4.1. Análise Univariada"
   ]
  },
  {
   "cell_type": "code",
   "execution_count": 16,
   "id": "5a428eb9",
   "metadata": {
    "ExecuteTime": {
     "end_time": "2022-09-09T10:28:52.827565Z",
     "start_time": "2022-09-09T10:28:52.565232Z"
    }
   },
   "outputs": [
    {
     "data": {
      "image/png": "[encoded data removed]",
      "text/plain": [
       "<Figure size 432x288 with 1 Axes>"
      ]
     },
     "metadata": {
      "needs_background": "light"
     },
     "output_type": "display_data"
    }
   ],
   "source": [
    "# Age\n",
    "sns.boxplot(x='response', y='age',data=df4);"
   ]
  },
  {
   "cell_type": "code",
   "execution_count": 17,
   "id": "c1df02e4",
   "metadata": {
    "ExecuteTime": {
     "end_time": "2022-09-09T10:28:55.664162Z",
     "start_time": "2022-09-09T10:28:52.830557Z"
    },
    "cell_style": "center"
   },
   "outputs": [
    {
     "data": {
      "image/png": "[encoded data removed]",
      "text/plain": [
       "<Figure size 1080x576 with 2 Axes>"
      ]
     },
     "metadata": {
      "needs_background": "light"
     },
     "output_type": "display_data"
    }
   ],
   "source": [
    "# aux00 =  df4.loc[ df4['response'] == 0, 'age']\n",
    "# sns.histplot( aux00 );\n",
    "\n",
    "\n",
    "fig, axs = plt.subplots( nrows=2, figsize=(15,8) )\n",
    "sns.countplot(x='age', data = df4[ df4['response'] == 0], hue='response', ax=axs[0])\n",
    "sns.countplot(x='age', data = df4[ df4['response'] == 1], hue='response', ax=axs[1]);"
   ]
  },
  {
   "cell_type": "code",
   "execution_count": 18,
   "id": "ac623444",
   "metadata": {
    "ExecuteTime": {
     "end_time": "2022-09-09T10:28:55.901643Z",
     "start_time": "2022-09-09T10:28:55.668112Z"
    },
    "cell_style": "center"
   },
   "outputs": [
    {
     "data": {
      "image/png": "[encoded data removed]",
      "text/plain": [
       "<Figure size 432x288 with 1 Axes>"
      ]
     },
     "metadata": {
      "needs_background": "light"
     },
     "output_type": "display_data"
    }
   ],
   "source": [
    "aux00 =  df4.loc[ df4['response'] == 1, 'age']\n",
    "sns.histplot( aux00 );"
   ]
  },
  {
   "cell_type": "code",
   "execution_count": 19,
   "id": "910e40da",
   "metadata": {
    "ExecuteTime": {
     "end_time": "2022-09-09T10:28:56.075985Z",
     "start_time": "2022-09-09T10:28:55.903399Z"
    }
   },
   "outputs": [
    {
     "data": {
      "image/png": "[encoded data removed]",
      "text/plain": [
       "<Figure size 432x288 with 1 Axes>"
      ]
     },
     "metadata": {
      "needs_background": "light"
     },
     "output_type": "display_data"
    }
   ],
   "source": [
    "# Annual premium\n",
    "aux00 = df4.loc[ df4['annual_premium'] < 80000]\n",
    "sns.boxplot(x='response', y=\"annual_premium\", data=aux00);"
   ]
  },
  {
   "cell_type": "code",
   "execution_count": 20,
   "id": "efa21570",
   "metadata": {
    "ExecuteTime": {
     "end_time": "2022-09-09T10:28:56.552108Z",
     "start_time": "2022-09-09T10:28:56.077932Z"
    },
    "cell_style": "split"
   },
   "outputs": [
    {
     "data": {
      "image/png": "[encoded data removed]",
      "text/plain": [
       "<Figure size 432x288 with 1 Axes>"
      ]
     },
     "metadata": {
      "needs_background": "light"
     },
     "output_type": "display_data"
    }
   ],
   "source": [
    "aux = df4.loc[(df4['annual_premium'] > 10000) &(df4['annual_premium'] < 80000 )]\n",
    "aux00 = aux.loc[aux['response'] == 0, 'annual_premium']\n",
    "sns.histplot( aux00 );"
   ]
  },
  {
   "cell_type": "code",
   "execution_count": 21,
   "id": "92ea0518",
   "metadata": {
    "ExecuteTime": {
     "end_time": "2022-09-09T10:28:56.807502Z",
     "start_time": "2022-09-09T10:28:56.554105Z"
    },
    "cell_style": "split"
   },
   "outputs": [
    {
     "data": {
      "image/png": "[encoded data removed]",
      "text/plain": [
       "<Figure size 432x288 with 1 Axes>"
      ]
     },
     "metadata": {
      "needs_background": "light"
     },
     "output_type": "display_data"
    }
   ],
   "source": [
    "aux = df4.loc[(df4['annual_premium'] > 10000) &(df4['annual_premium'] < 80000 )]\n",
    "aux00 = aux.loc[aux['response'] == 1, 'annual_premium']\n",
    "sns.histplot( aux00 );"
   ]
  },
  {
   "cell_type": "code",
   "execution_count": 22,
   "id": "da8ef0fb",
   "metadata": {
    "ExecuteTime": {
     "end_time": "2022-09-09T10:28:56.918571Z",
     "start_time": "2022-09-09T10:28:56.809501Z"
    }
   },
   "outputs": [
    {
     "data": {
      "image/png": "[encoded data removed]",
      "text/plain": [
       "<Figure size 432x288 with 1 Axes>"
      ]
     },
     "metadata": {
      "needs_background": "light"
     },
     "output_type": "display_data"
    }
   ],
   "source": [
    "# driving license\n",
    "aux = df4[['driving_license', 'response']].groupby('response').sum().reset_index()\n",
    "aux.head()\n",
    "\n",
    "aux['driving_license_perc'] = aux['driving_license'] / aux['driving_license'].sum()\n",
    "sns.barplot(x='response', y='driving_license', data=aux);\n",
    "\n",
    "# eu tenho muito mais pessoas que não dirigem e tmb não estão interessadas em adquirir o seguro"
   ]
  },
  {
   "cell_type": "code",
   "execution_count": 23,
   "id": "4c1e45f9",
   "metadata": {
    "ExecuteTime": {
     "end_time": "2022-09-09T10:28:57.125280Z",
     "start_time": "2022-09-09T10:28:56.920541Z"
    }
   },
   "outputs": [
    {
     "data": {
      "image/png": "[encoded data removed]",
      "text/plain": [
       "<Figure size 432x288 with 1 Axes>"
      ]
     },
     "metadata": {
      "needs_background": "light"
     },
     "output_type": "display_data"
    }
   ],
   "source": [
    "# Region Code\n",
    "aux = df4[['id', 'region_code', 'response']].groupby(['region_code', 'response']).count().reset_index()\n",
    "sns.scatterplot(x='region_code', y='id', hue='response', data=aux);"
   ]
  },
  {
   "cell_type": "code",
   "execution_count": 24,
   "id": "dd829ddd",
   "metadata": {
    "ExecuteTime": {
     "end_time": "2022-09-09T10:28:57.187408Z",
     "start_time": "2022-09-09T10:28:57.126843Z"
    }
   },
   "outputs": [
    {
     "data": {
      "text/html": [
       "<div>\n",
       "<style scoped>\n",
       "    .dataframe tbody tr th:only-of-type {\n",
       "        vertical-align: middle;\n",
       "    }\n",
       "\n",
       "    .dataframe tbody tr th {\n",
       "        vertical-align: top;\n",
       "    }\n",
       "\n",
       "    .dataframe thead th {\n",
       "        text-align: right;\n",
       "    }\n",
       "</style>\n",
       "<table border=\"1\" class=\"dataframe\">\n",
       "  <thead>\n",
       "    <tr style=\"text-align: right;\">\n",
       "      <th>response</th>\n",
       "      <th>0</th>\n",
       "      <th>1</th>\n",
       "    </tr>\n",
       "    <tr>\n",
       "      <th>previously_insured</th>\n",
       "      <th></th>\n",
       "      <th></th>\n",
       "    </tr>\n",
       "  </thead>\n",
       "  <tbody>\n",
       "    <tr>\n",
       "      <th>0</th>\n",
       "      <td>0.774546</td>\n",
       "      <td>0.225454</td>\n",
       "    </tr>\n",
       "    <tr>\n",
       "      <th>1</th>\n",
       "      <td>0.999095</td>\n",
       "      <td>0.000905</td>\n",
       "    </tr>\n",
       "  </tbody>\n",
       "</table>\n",
       "</div>"
      ],
      "text/plain": [
       "response                   0         1\n",
       "previously_insured                    \n",
       "0                   0.774546  0.225454\n",
       "1                   0.999095  0.000905"
      ]
     },
     "execution_count": 24,
     "metadata": {},
     "output_type": "execute_result"
    }
   ],
   "source": [
    "# previously_insured\n",
    "pd.crosstab( df4['previously_insured'], df4['response'] ).apply( lambda x: x/x.sum(), axis=1)"
   ]
  },
  {
   "cell_type": "code",
   "execution_count": 25,
   "id": "c9243b73",
   "metadata": {
    "ExecuteTime": {
     "end_time": "2022-09-09T10:28:57.249670Z",
     "start_time": "2022-09-09T10:28:57.189388Z"
    }
   },
   "outputs": [
    {
     "data": {
      "text/html": [
       "<div>\n",
       "<style scoped>\n",
       "    .dataframe tbody tr th:only-of-type {\n",
       "        vertical-align: middle;\n",
       "    }\n",
       "\n",
       "    .dataframe tbody tr th {\n",
       "        vertical-align: top;\n",
       "    }\n",
       "\n",
       "    .dataframe thead th {\n",
       "        text-align: right;\n",
       "    }\n",
       "</style>\n",
       "<table border=\"1\" class=\"dataframe\">\n",
       "  <thead>\n",
       "    <tr style=\"text-align: right;\">\n",
       "      <th></th>\n",
       "      <th>vehicle_age</th>\n",
       "      <th>response</th>\n",
       "      <th>0</th>\n",
       "    </tr>\n",
       "  </thead>\n",
       "  <tbody>\n",
       "    <tr>\n",
       "      <th>1</th>\n",
       "      <td>below_1_year</td>\n",
       "      <td>0</td>\n",
       "      <td>0.413488</td>\n",
       "    </tr>\n",
       "    <tr>\n",
       "      <th>4</th>\n",
       "      <td>below_1_year</td>\n",
       "      <td>1</td>\n",
       "      <td>0.018897</td>\n",
       "    </tr>\n",
       "    <tr>\n",
       "      <th>0</th>\n",
       "      <td>between_1_2_years</td>\n",
       "      <td>0</td>\n",
       "      <td>0.434285</td>\n",
       "    </tr>\n",
       "    <tr>\n",
       "      <th>2</th>\n",
       "      <td>between_1_2_years</td>\n",
       "      <td>1</td>\n",
       "      <td>0.091328</td>\n",
       "    </tr>\n",
       "    <tr>\n",
       "      <th>3</th>\n",
       "      <td>over_2_years</td>\n",
       "      <td>0</td>\n",
       "      <td>0.029663</td>\n",
       "    </tr>\n",
       "    <tr>\n",
       "      <th>5</th>\n",
       "      <td>over_2_years</td>\n",
       "      <td>1</td>\n",
       "      <td>0.012338</td>\n",
       "    </tr>\n",
       "  </tbody>\n",
       "</table>\n",
       "</div>"
      ],
      "text/plain": [
       "         vehicle_age  response         0\n",
       "1       below_1_year         0  0.413488\n",
       "4       below_1_year         1  0.018897\n",
       "0  between_1_2_years         0  0.434285\n",
       "2  between_1_2_years         1  0.091328\n",
       "3       over_2_years         0  0.029663\n",
       "5       over_2_years         1  0.012338"
      ]
     },
     "execution_count": 25,
     "metadata": {},
     "output_type": "execute_result"
    }
   ],
   "source": [
    "# vehicle_age\n",
    "# df4[['id', 'vehicle_age', 'response']].groupby(['vehicle_age', 'response']).count().reset_index()\n",
    "df4[['vehicle_age', 'response']].value_counts( normalize=True).reset_index().sort_values('vehicle_age')"
   ]
  },
  {
   "cell_type": "code",
   "execution_count": 26,
   "id": "25d43dab",
   "metadata": {
    "ExecuteTime": {
     "end_time": "2022-09-09T10:28:58.686070Z",
     "start_time": "2022-09-09T10:28:57.251232Z"
    }
   },
   "outputs": [
    {
     "data": {
      "image/png": "[encoded data removed]",
      "text/plain": [
       "<Figure size 1728x864 with 1 Axes>"
      ]
     },
     "metadata": {
      "needs_background": "light"
     },
     "output_type": "display_data"
    }
   ],
   "source": [
    "# policy_sales_channel\n",
    "plt.figure( figsize=(24,12))\n",
    "aux =  df4[['policy_sales_channel', 'response']].groupby('policy_sales_channel').sum().reset_index()\n",
    "sns.barplot( x='response', y='policy_sales_channel', data=aux);"
   ]
  },
  {
   "cell_type": "code",
   "execution_count": 27,
   "id": "842e3488",
   "metadata": {
    "ExecuteTime": {
     "end_time": "2022-09-09T10:28:58.957479Z",
     "start_time": "2022-09-09T10:28:58.696044Z"
    }
   },
   "outputs": [
    {
     "data": {
      "text/plain": [
       "<AxesSubplot:xlabel='response', ylabel='vintage'>"
      ]
     },
     "execution_count": 27,
     "metadata": {},
     "output_type": "execute_result"
    },
    {
     "data": {
      "image/png": "[encoded data removed]",
      "text/plain": [
       "<Figure size 432x288 with 1 Axes>"
      ]
     },
     "metadata": {
      "needs_background": "light"
     },
     "output_type": "display_data"
    }
   ],
   "source": [
    "# vintage\n",
    "sns.boxplot(x='response', y='vintage', data=df4)"
   ]
  },
  {
   "cell_type": "code",
   "execution_count": 28,
   "id": "399f10e2",
   "metadata": {
    "ExecuteTime": {
     "end_time": "2022-09-09T10:28:59.657594Z",
     "start_time": "2022-09-09T10:28:58.960338Z"
    },
    "cell_style": "split"
   },
   "outputs": [
    {
     "data": {
      "text/plain": [
       "<AxesSubplot:xlabel='vintage', ylabel='Count'>"
      ]
     },
     "execution_count": 28,
     "metadata": {},
     "output_type": "execute_result"
    },
    {
     "data": {
      "image/png": "[encoded data removed]",
      "text/plain": [
       "<Figure size 432x288 with 1 Axes>"
      ]
     },
     "metadata": {
      "needs_background": "light"
     },
     "output_type": "display_data"
    }
   ],
   "source": [
    "aux =  df4.loc[ df4.response == 0, 'vintage']\n",
    "\n",
    "sns.histplot( aux )"
   ]
  },
  {
   "cell_type": "code",
   "execution_count": 29,
   "id": "63f5912d",
   "metadata": {
    "ExecuteTime": {
     "end_time": "2022-09-09T10:29:00.038506Z",
     "start_time": "2022-09-09T10:28:59.660517Z"
    },
    "cell_style": "split"
   },
   "outputs": [
    {
     "data": {
      "text/plain": [
       "<AxesSubplot:xlabel='vintage', ylabel='Count'>"
      ]
     },
     "execution_count": 29,
     "metadata": {},
     "output_type": "execute_result"
    },
    {
     "data": {
      "image/png": "[encoded data removed]",
      "text/plain": [
       "<Figure size 432x288 with 1 Axes>"
      ]
     },
     "metadata": {
      "needs_background": "light"
     },
     "output_type": "display_data"
    }
   ],
   "source": [
    "aux =  df4.loc[ df4.response == 1, 'vintage']\n",
    "\n",
    "sns.histplot( aux )"
   ]
  },
  {
   "cell_type": "markdown",
   "id": "29d28a47",
   "metadata": {
    "heading_collapsed": true
   },
   "source": [
    "# 5.0. PREPARAÇÃO DOS DADOS"
   ]
  },
  {
   "cell_type": "code",
   "execution_count": 30,
   "id": "068bf98d",
   "metadata": {
    "ExecuteTime": {
     "end_time": "2022-09-09T10:29:00.070421Z",
     "start_time": "2022-09-09T10:29:00.042496Z"
    },
    "hidden": true
   },
   "outputs": [],
   "source": [
    "df5 = df4.copy()"
   ]
  },
  {
   "cell_type": "code",
   "execution_count": 31,
   "id": "48cc561d",
   "metadata": {
    "ExecuteTime": {
     "end_time": "2022-09-09T10:29:00.229566Z",
     "start_time": "2022-09-09T10:29:00.074410Z"
    },
    "hidden": true
   },
   "outputs": [],
   "source": [
    "X = df5.drop('response', axis=1)\n",
    "y = df5.response.copy()\n",
    "\n",
    "x_train, x_validation, y_train, y_validation = train_test_split( X, y, test_size=0.2)\n",
    "\n",
    "df5 = pd.concat( [x_train, y_train], axis=1)"
   ]
  },
  {
   "cell_type": "markdown",
   "id": "037699ec",
   "metadata": {
    "hidden": true
   },
   "source": [
    "## 5.1. Standardization"
   ]
  },
  {
   "cell_type": "code",
   "execution_count": null,
   "id": "4092e2bf",
   "metadata": {
    "ExecuteTime": {
     "end_time": "2022-09-07T13:24:33.286502Z",
     "start_time": "2022-09-07T13:24:33.273490Z"
    },
    "hidden": true
   },
   "outputs": [],
   "source": []
  },
  {
   "cell_type": "code",
   "execution_count": 32,
   "id": "ab3f0340",
   "metadata": {
    "ExecuteTime": {
     "end_time": "2022-09-09T10:29:00.308718Z",
     "start_time": "2022-09-09T10:29:00.232535Z"
    },
    "hidden": true
   },
   "outputs": [],
   "source": [
    "ss = StandardScaler()\n",
    "\n",
    "# annual_premium -> bem parecido com uma normal\n",
    "df5['annual_premium']  = ss.fit_transform( df5[['annual_premium']].values )\n",
    "pickle.dump( ss, open( path +'/src/features/annual_premium_scaler.pkl', 'wb' ) )"
   ]
  },
  {
   "cell_type": "markdown",
   "id": "086dca41",
   "metadata": {
    "hidden": true
   },
   "source": [
    "## 5.2. Rescaling"
   ]
  },
  {
   "cell_type": "code",
   "execution_count": 33,
   "id": "4c385268",
   "metadata": {
    "ExecuteTime": {
     "end_time": "2022-09-09T10:29:00.371483Z",
     "start_time": "2022-09-09T10:29:00.311642Z"
    },
    "hidden": true
   },
   "outputs": [],
   "source": [
    "mms_age = MinMaxScaler()\n",
    "mms_vintage = MinMaxScaler()\n",
    "\n",
    "\n",
    "# age -> Não é muito próxima de uma normal \n",
    "df5['age'] = mms_age.fit_transform( df5[['age']].values )\n",
    "pickle.dump( mms_age, open( path +'/src/features/mms_age_scaler.pkl', 'wb' ) )\n",
    "\n",
    "# vintage -> Só vou reescalar, não aparenta ser útil\n",
    "df5['vintage'] = mms_vintage.fit_transform( df5[['vintage']].values )\n",
    "pickle.dump( mms_vintage, open( path +'/src/features/mms_vintage_scaler.pkl', 'wb' ) )"
   ]
  },
  {
   "cell_type": "markdown",
   "id": "7ab60805",
   "metadata": {
    "hidden": true
   },
   "source": [
    "## 5.3. Encoder"
   ]
  },
  {
   "cell_type": "code",
   "execution_count": 34,
   "id": "6da0bb5f",
   "metadata": {
    "ExecuteTime": {
     "end_time": "2022-09-09T10:29:00.622859Z",
     "start_time": "2022-09-09T10:29:00.374515Z"
    },
    "hidden": true
   },
   "outputs": [],
   "source": [
    "# gender -  One Hot Encoding /  Target Encoding\n",
    "target_encode_gender = df5.groupby('gender')['response'].mean()\n",
    "df5.loc[:, 'gender'] = df5['gender'].map( target_encode_gender )\n",
    "pickle.dump( target_encode_gender, open( path +'/src/features/target_encode_gender_scaler.pkl', 'wb' ) )\n",
    "\n",
    "# region_code - Frequency Encoding, ou Target Encoding, ou Weighted Target Encoding\n",
    "target_encode_region_code = df5.groupby( 'region_code' )['response'].mean()\n",
    "df5.loc[:, 'region_code'] = df5['region_code'].map( target_encode_region_code )\n",
    "pickle.dump( target_encode_region_code, open( path +'/src/features/target_encode_region_code_scaler.pkl', 'wb' ) )\n",
    "\n",
    "# vehicle_age - One Hot Encoding / ORDER ENCODING / Frequence Encoding\n",
    "df5 = pd.get_dummies( df5, prefix='vehicle_age', columns=['vehicle_age'])\n",
    "\n",
    "# policy_sales_channel - Frequency Encoding\n",
    "fe_policy_sales_channel = df5.groupby('policy_sales_channel').size() /  len(df5)\n",
    "df5.loc[:, 'policy_sales_channel'] = df5['policy_sales_channel'].map( fe_policy_sales_channel )\n",
    "pickle.dump( fe_policy_sales_channel, open( path +'/src/features/fe_policy_sales_channel_scaler.pkl', 'wb' ) )"
   ]
  },
  {
   "cell_type": "markdown",
   "id": "38dad401",
   "metadata": {
    "ExecuteTime": {
     "end_time": "2022-08-17T00:56:38.160991Z",
     "start_time": "2022-08-17T00:56:38.154011Z"
    },
    "hidden": true
   },
   "source": [
    "## 5.4. Preparação dos dados de Validação"
   ]
  },
  {
   "cell_type": "code",
   "execution_count": 35,
   "id": "6a6099c0",
   "metadata": {
    "ExecuteTime": {
     "end_time": "2022-09-09T10:29:00.766475Z",
     "start_time": "2022-09-09T10:29:00.625755Z"
    },
    "hidden": true
   },
   "outputs": [],
   "source": [
    "# gender \n",
    "x_validation.loc[:, 'gender'] = x_validation['gender'].map( target_encode_gender )\n",
    "\n",
    "# age\n",
    "x_validation.loc[:, 'age'] = mms_age.fit_transform( x_validation[['age']].values )\n",
    "\n",
    "# region_code\n",
    "x_validation.loc[ :, 'region_code'] = x_validation['region_code'].map( target_encode_region_code )\n",
    "\n",
    "# vehicle_age - One Hot Encoding / ORDER ENCODING / Frequence Encoding\n",
    "x_validation = pd.get_dummies( x_validation, prefix='vehicle_age', columns=['vehicle_age'])\n",
    "\n",
    "# annual_premium\n",
    "x_validation.loc[:, 'annual_premium'] = ss.fit_transform( x_validation[['annual_premium']].values)\n",
    "\n",
    "# policy_sales_channel - Frequency Encoding\n",
    "x_validation.loc[:, 'policy_sales_channel'] = x_validation['policy_sales_channel'].map( fe_policy_sales_channel )\n",
    "\n",
    "# vintage\n",
    "x_validation.loc[:, 'vintage'] = mms_vintage.fit_transform( x_validation[['vintage']].values )\n",
    "\n",
    "# fillna\n",
    "x_validation = x_validation.fillna( 0 )"
   ]
  },
  {
   "cell_type": "markdown",
   "id": "d924b390",
   "metadata": {
    "heading_collapsed": true
   },
   "source": [
    "# 6.0. SELEÇÃO DE ATRIBUTOS"
   ]
  },
  {
   "cell_type": "markdown",
   "id": "5d037acd",
   "metadata": {
    "hidden": true
   },
   "source": [
    "## 6.2. Importancia das Features"
   ]
  },
  {
   "cell_type": "code",
   "execution_count": 36,
   "id": "b9aae10e",
   "metadata": {
    "ExecuteTime": {
     "end_time": "2022-09-09T10:29:34.032644Z",
     "start_time": "2022-09-09T10:29:00.770331Z"
    },
    "hidden": true
   },
   "outputs": [
    {
     "data": {
      "text/html": [
       "<style>#sk-container-id-1 {color: black;background-color: white;}#sk-container-id-1 pre{padding: 0;}#sk-container-id-1 div.sk-toggleable {background-color: white;}#sk-container-id-1 label.sk-toggleable__label {cursor: pointer;display: block;width: 100%;margin-bottom: 0;padding: 0.3em;box-sizing: border-box;text-align: center;}#sk-container-id-1 label.sk-toggleable__label-arrow:before {content: \"▸\";float: left;margin-right: 0.25em;color: #696969;}#sk-container-id-1 label.sk-toggleable__label-arrow:hover:before {color: black;}#sk-container-id-1 div.sk-estimator:hover label.sk-toggleable__label-arrow:before {color: black;}#sk-container-id-1 div.sk-toggleable__content {max-height: 0;max-width: 0;overflow: hidden;text-align: left;background-color: #f0f8ff;}#sk-container-id-1 div.sk-toggleable__content pre {margin: 0.2em;color: black;border-radius: 0.25em;background-color: #f0f8ff;}#sk-container-id-1 input.sk-toggleable__control:checked~div.sk-toggleable__content {max-height: 200px;max-width: 100%;overflow: auto;}#sk-container-id-1 input.sk-toggleable__control:checked~label.sk-toggleable__label-arrow:before {content: \"▾\";}#sk-container-id-1 div.sk-estimator input.sk-toggleable__control:checked~label.sk-toggleable__label {background-color: #d4ebff;}#sk-container-id-1 div.sk-label input.sk-toggleable__control:checked~label.sk-toggleable__label {background-color: #d4ebff;}#sk-container-id-1 input.sk-hidden--visually {border: 0;clip: rect(1px 1px 1px 1px);clip: rect(1px, 1px, 1px, 1px);height: 1px;margin: -1px;overflow: hidden;padding: 0;position: absolute;width: 1px;}#sk-container-id-1 div.sk-estimator {font-family: monospace;background-color: #f0f8ff;border: 1px dotted black;border-radius: 0.25em;box-sizing: border-box;margin-bottom: 0.5em;}#sk-container-id-1 div.sk-estimator:hover {background-color: #d4ebff;}#sk-container-id-1 div.sk-parallel-item::after {content: \"\";width: 100%;border-bottom: 1px solid gray;flex-grow: 1;}#sk-container-id-1 div.sk-label:hover label.sk-toggleable__label {background-color: #d4ebff;}#sk-container-id-1 div.sk-serial::before {content: \"\";position: absolute;border-left: 1px solid gray;box-sizing: border-box;top: 0;bottom: 0;left: 50%;z-index: 0;}#sk-container-id-1 div.sk-serial {display: flex;flex-direction: column;align-items: center;background-color: white;padding-right: 0.2em;padding-left: 0.2em;position: relative;}#sk-container-id-1 div.sk-item {position: relative;z-index: 1;}#sk-container-id-1 div.sk-parallel {display: flex;align-items: stretch;justify-content: center;background-color: white;position: relative;}#sk-container-id-1 div.sk-item::before, #sk-container-id-1 div.sk-parallel-item::before {content: \"\";position: absolute;border-left: 1px solid gray;box-sizing: border-box;top: 0;bottom: 0;left: 50%;z-index: -1;}#sk-container-id-1 div.sk-parallel-item {display: flex;flex-direction: column;z-index: 1;position: relative;background-color: white;}#sk-container-id-1 div.sk-parallel-item:first-child::after {align-self: flex-end;width: 50%;}#sk-container-id-1 div.sk-parallel-item:last-child::after {align-self: flex-start;width: 50%;}#sk-container-id-1 div.sk-parallel-item:only-child::after {width: 0;}#sk-container-id-1 div.sk-dashed-wrapped {border: 1px dashed gray;margin: 0 0.4em 0.5em 0.4em;box-sizing: border-box;padding-bottom: 0.4em;background-color: white;}#sk-container-id-1 div.sk-label label {font-family: monospace;font-weight: bold;display: inline-block;line-height: 1.2em;}#sk-container-id-1 div.sk-label-container {text-align: center;}#sk-container-id-1 div.sk-container {/* jupyter's `normalize.less` sets `[hidden] { display: none; }` but bootstrap.min.css set `[hidden] { display: none !important; }` so we also need the `!important` here to be able to override the default hidden behavior on the sphinx rendered scikit-learn.org. See: https://github.com/scikit-learn/scikit-learn/issues/21755 */display: inline-block !important;position: relative;}#sk-container-id-1 div.sk-text-repr-fallback {display: none;}</style><div id=\"sk-container-id-1\" class=\"sk-top-container\"><div class=\"sk-text-repr-fallback\"><pre>ExtraTreesClassifier(n_estimators=250, n_jobs=-1, random_state=0)</pre><b>In a Jupyter environment, please rerun this cell to show the HTML representation or trust the notebook. <br />On GitHub, the HTML representation is unable to render, please try loading this page with nbviewer.org.</b></div><div class=\"sk-container\" hidden><div class=\"sk-item\"><div class=\"sk-estimator sk-toggleable\"><input class=\"sk-toggleable__control sk-hidden--visually\" id=\"sk-estimator-id-1\" type=\"checkbox\" checked><label for=\"sk-estimator-id-1\" class=\"sk-toggleable__label sk-toggleable__label-arrow\">ExtraTreesClassifier</label><div class=\"sk-toggleable__content\"><pre>ExtraTreesClassifier(n_estimators=250, n_jobs=-1, random_state=0)</pre></div></div></div></div></div>"
      ],
      "text/plain": [
       "ExtraTreesClassifier(n_estimators=250, n_jobs=-1, random_state=0)"
      ]
     },
     "execution_count": 36,
     "metadata": {},
     "output_type": "execute_result"
    }
   ],
   "source": [
    "# Definição do Modelo\n",
    "forest = ensemble.ExtraTreesClassifier( n_estimators=250, random_state=0, n_jobs=-1 )\n",
    "\n",
    "# Data Preparation\n",
    "x_train_n = df5.drop( ['id', 'response'], axis=1 )\n",
    "y_train_n = y_train.values\n",
    "forest.fit( x_train_n, y_train_n )"
   ]
  },
  {
   "cell_type": "code",
   "execution_count": 37,
   "id": "c2da2d3d",
   "metadata": {
    "ExecuteTime": {
     "end_time": "2022-09-09T10:29:40.251440Z",
     "start_time": "2022-09-09T10:29:34.040622Z"
    },
    "hidden": true,
    "scrolled": true
   },
   "outputs": [
    {
     "name": "stdout",
     "output_type": "stream",
     "text": [
      "Feature Ranking:\n",
      "                         feature  importance\n",
      "0                        vintage    0.274098\n",
      "0                 annual_premium    0.244630\n",
      "0                            age    0.165154\n",
      "0                    region_code    0.105395\n",
      "0                 vehicle_damage    0.067203\n",
      "0           policy_sales_channel    0.058765\n",
      "0             previously_insured    0.056871\n",
      "0       vehicle_age_below_1_year    0.013971\n",
      "0  vehicle_age_between_1_2_years    0.006543\n",
      "0                         gender    0.004817\n",
      "0       vehicle_age_over_2_years    0.002065\n",
      "0                driving_license    0.000487\n"
     ]
    },
    {
     "data": {
      "image/png": "[encoded data removed]",
      "text/plain": [
       "<Figure size 432x288 with 1 Axes>"
      ]
     },
     "metadata": {
      "needs_background": "light"
     },
     "output_type": "display_data"
    }
   ],
   "source": [
    "importances  = forest.feature_importances_\n",
    "std = np.std( [tree.feature_importances_ for tree in forest.estimators_], axis=0)\n",
    "indices = np.argsort( importances )[::-1]\n",
    "\n",
    "\n",
    "# imprimindo o ranking das features\n",
    "print(\"Feature Ranking:\")\n",
    "df = pd.DataFrame()\n",
    "\n",
    "for i, j in zip( x_train_n, forest.feature_importances_ ):\n",
    "    aux = pd.DataFrame( {'feature': i, 'importance': j}, index=[0])\n",
    "    df = pd.concat( [df,aux], axis=0 )\n",
    "\n",
    "    \n",
    "print( df.sort_values( 'importance', ascending=False ) )\n",
    "\n",
    "# Plot the impurity-based feature importances of the forest\n",
    "plt.figure()\n",
    "plt.title(\"Feature importances\")\n",
    "plt.bar(range(x_train_n.shape[1]), importances[indices], color=\"r\", yerr=std[indices], align=\"center\")\n",
    "plt.xticks(range(x_train_n.shape[1]), indices)\n",
    "plt.xlim([-1, x_train_n.shape[1]])\n",
    "plt.show()"
   ]
  },
  {
   "cell_type": "markdown",
   "id": "13dcfe4e",
   "metadata": {
    "heading_collapsed": true
   },
   "source": [
    "# 7.0. MODELO DE MACHINE LEARNING "
   ]
  },
  {
   "cell_type": "code",
   "execution_count": 38,
   "id": "21727d85",
   "metadata": {
    "ExecuteTime": {
     "end_time": "2022-09-09T10:29:40.456037Z",
     "start_time": "2022-09-09T10:29:40.257380Z"
    },
    "hidden": true
   },
   "outputs": [],
   "source": [
    "cols_selected = ['vintage', 'annual_premium', 'age', 'region_code', 'vehicle_damage', 'policy_sales_channel', 'previously_insured' ]\n",
    "\n",
    "x_train =  df5[ cols_selected ]\n",
    "x_val = x_validation[ cols_selected ]\n",
    "y_val = y_validation.copy()"
   ]
  },
  {
   "cell_type": "markdown",
   "id": "c48135ca",
   "metadata": {
    "hidden": true
   },
   "source": [
    "## 7.1. KNN"
   ]
  },
  {
   "cell_type": "code",
   "execution_count": 39,
   "id": "abf16078",
   "metadata": {
    "ExecuteTime": {
     "end_time": "2022-09-09T10:29:50.863106Z",
     "start_time": "2022-09-09T10:29:40.460030Z"
    },
    "hidden": true
   },
   "outputs": [],
   "source": [
    "# Definição do Modelo\n",
    "knn_model =  neighbors.KNeighborsClassifier( n_neighbors=7 )\n",
    "\n",
    "# treinamento do modelo\n",
    "knn_model.fit( x_train, y_train )\n",
    "\n",
    "# Predição do modelo -> Medindo o poder de GENERALIZAÇÃO DO MODELO\n",
    "yhat_knn =  knn_model.predict_proba( x_val ) "
   ]
  },
  {
   "cell_type": "code",
   "execution_count": 40,
   "id": "2d4f6d73",
   "metadata": {
    "ExecuteTime": {
     "end_time": "2022-09-09T10:29:51.785537Z",
     "start_time": "2022-09-09T10:29:50.865110Z"
    },
    "cell_style": "center",
    "hidden": true,
    "hide_input": false
   },
   "outputs": [
    {
     "data": {
      "text/plain": [
       "<AxesSubplot:title={'center':'Lift CUrve Logistic Regressor'}, xlabel='Percentage of sample', ylabel='Lift'>"
      ]
     },
     "execution_count": 40,
     "metadata": {},
     "output_type": "execute_result"
    },
    {
     "data": {
      "image/png": "[encoded data removed]",
      "text/plain": [
       "<Figure size 864x432 with 2 Axes>"
      ]
     },
     "metadata": {
      "needs_background": "light"
     },
     "output_type": "display_data"
    }
   ],
   "source": [
    "# Ganho Acumulado\n",
    "fig, axs = plt.subplots(ncols=2, figsize=(12, 6))\n",
    "skplt.metrics.plot_cumulative_gain( y_val, yhat_knn, ax=axs[0], title='Cumulative Gain - KNN' )\n",
    "skplt.metrics.plot_lift_curve(y_val, yhat_knn, ax=axs[1], title='Lift CUrve Logistic Regressor')"
   ]
  },
  {
   "cell_type": "code",
   "execution_count": 41,
   "id": "454b743a",
   "metadata": {
    "ExecuteTime": {
     "end_time": "2022-09-09T10:29:53.577899Z",
     "start_time": "2022-09-09T10:29:51.788566Z"
    },
    "cell_style": "center",
    "hidden": true,
    "hide_input": false
   },
   "outputs": [
    {
     "data": {
      "image/png": "[encoded data removed]",
      "text/plain": [
       "<Figure size 432x288 with 1 Axes>"
      ]
     },
     "metadata": {
      "needs_background": "light"
     },
     "output_type": "display_data"
    }
   ],
   "source": [
    "# Definição do Modelo\n",
    "lr_model =  LogisticRegression( random_state=42 )\n",
    "\n",
    "# treinamento do modelo\n",
    "lr_model.fit( x_train, y_train )\n",
    "\n",
    "# Predição do modelo -> Medindo o poder de GENERALIZAÇÃO DO MODELO\n",
    "yhat_lr =  lr_model.predict_proba( x_val ) \n",
    "\n",
    "# Ganho Acumulado\n",
    "skplt.metrics.plot_cumulative_gain( y_val, yhat_lr )\n",
    "plt.title('Logistic Regression');"
   ]
  },
  {
   "cell_type": "code",
   "execution_count": null,
   "id": "ab14afc6",
   "metadata": {
    "hidden": true
   },
   "outputs": [],
   "source": []
  },
  {
   "cell_type": "markdown",
   "id": "ba3f95a5",
   "metadata": {
    "hidden": true,
    "hide_input": true
   },
   "source": [
    "## 8.0. Model Performance"
   ]
  },
  {
   "cell_type": "code",
   "execution_count": 42,
   "id": "85cc6744",
   "metadata": {
    "ExecuteTime": {
     "end_time": "2022-09-09T10:29:53.593857Z",
     "start_time": "2022-09-09T10:29:53.583885Z"
    },
    "hidden": true,
    "hide_input": false
   },
   "outputs": [],
   "source": [
    "def precision_at_k( data, k=2000):\n",
    "    # reset index\n",
    "    data = data.reset_index( drop=True ) \n",
    "\n",
    "    # criando ranking ordenado\n",
    "    data['ranking'] = data.index + 1\n",
    "\n",
    "    # Precision at k\n",
    "    data['precision_at_k'] = data['response'].cumsum() / data['ranking']\n",
    "    \n",
    "    return data.loc[k, 'precision_at_k']"
   ]
  },
  {
   "cell_type": "code",
   "execution_count": 43,
   "id": "1576f111",
   "metadata": {
    "ExecuteTime": {
     "end_time": "2022-09-09T10:29:53.625837Z",
     "start_time": "2022-09-09T10:29:53.597844Z"
    },
    "cell_style": "center",
    "hidden": true,
    "hide_input": false
   },
   "outputs": [],
   "source": [
    "def recall_at_k( data, k=2000):\n",
    "    # reset index\n",
    "    data = data.reset_index( drop=True ) \n",
    "\n",
    "    # criando ranking ordenado\n",
    "    data['ranking'] = data.index + 1\n",
    "\n",
    "    # Precision at k\n",
    "    data['recall_at_k'] = data['response'].cumsum() / data['response'].sum()\n",
    "    \n",
    "    return data.loc[k, 'recall_at_k']\n"
   ]
  },
  {
   "cell_type": "code",
   "execution_count": 44,
   "id": "17669150",
   "metadata": {
    "ExecuteTime": {
     "end_time": "2022-09-09T10:29:53.751600Z",
     "start_time": "2022-09-09T10:29:53.629758Z"
    },
    "hidden": true
   },
   "outputs": [
    {
     "name": "stdout",
     "output_type": "stream",
     "text": [
      "Precisão até K: 0.3137254901960784\n",
      "Recall até K: 0.0017103153393907002\n"
     ]
    }
   ],
   "source": [
    "# copy data\n",
    "df8 =  x_validation.copy()\n",
    "df8['response'] = y_validation.copy()\n",
    "\n",
    "# propensity score\n",
    "df8['propensity_score'] = yhat_knn[:,1].tolist()\n",
    "\n",
    "# ordenando clientes pelo score de propensão\n",
    "df8 = df8.sort_values('propensity_score', ascending=False)\n",
    "\n",
    "# Calculando a precisao até k\n",
    "# Predicoes Corretas até K /  Total de predicoes realizadas\n",
    "precision_at_50 = precision_at_k(df8, k=50)\n",
    "print( f'Precisão até K: {precision_at_50}' )\n",
    "\n",
    "# Calculando recall até k -> predicoes corretas até k / todos eemplos verdadeiros\n",
    "recall_at_50 = recall_at_k(df8, k=50)\n",
    "print( f'Recall até K: {recall_at_50}' )"
   ]
  },
  {
   "cell_type": "code",
   "execution_count": 45,
   "id": "02318d0f",
   "metadata": {
    "ExecuteTime": {
     "end_time": "2022-09-09T10:29:53.815429Z",
     "start_time": "2022-09-09T10:29:53.756549Z"
    },
    "hidden": true
   },
   "outputs": [
    {
     "data": {
      "text/html": [
       "<div>\n",
       "<style scoped>\n",
       "    .dataframe tbody tr th:only-of-type {\n",
       "        vertical-align: middle;\n",
       "    }\n",
       "\n",
       "    .dataframe tbody tr th {\n",
       "        vertical-align: top;\n",
       "    }\n",
       "\n",
       "    .dataframe thead th {\n",
       "        text-align: right;\n",
       "    }\n",
       "</style>\n",
       "<table border=\"1\" class=\"dataframe\">\n",
       "  <thead>\n",
       "    <tr style=\"text-align: right;\">\n",
       "      <th></th>\n",
       "      <th>id</th>\n",
       "      <th>response</th>\n",
       "      <th>propensity_score</th>\n",
       "      <th>ranking</th>\n",
       "      <th>precision_at_k</th>\n",
       "    </tr>\n",
       "  </thead>\n",
       "  <tbody>\n",
       "    <tr>\n",
       "      <th>0</th>\n",
       "      <td>235979</td>\n",
       "      <td>0</td>\n",
       "      <td>1.0</td>\n",
       "      <td>1</td>\n",
       "      <td>0.0</td>\n",
       "    </tr>\n",
       "    <tr>\n",
       "      <th>1</th>\n",
       "      <td>56740</td>\n",
       "      <td>0</td>\n",
       "      <td>1.0</td>\n",
       "      <td>2</td>\n",
       "      <td>0.0</td>\n",
       "    </tr>\n",
       "    <tr>\n",
       "      <th>2</th>\n",
       "      <td>227567</td>\n",
       "      <td>0</td>\n",
       "      <td>1.0</td>\n",
       "      <td>3</td>\n",
       "      <td>0.0</td>\n",
       "    </tr>\n",
       "    <tr>\n",
       "      <th>3</th>\n",
       "      <td>43904</td>\n",
       "      <td>0</td>\n",
       "      <td>1.0</td>\n",
       "      <td>4</td>\n",
       "      <td>0.0</td>\n",
       "    </tr>\n",
       "    <tr>\n",
       "      <th>4</th>\n",
       "      <td>68576</td>\n",
       "      <td>1</td>\n",
       "      <td>1.0</td>\n",
       "      <td>5</td>\n",
       "      <td>0.2</td>\n",
       "    </tr>\n",
       "  </tbody>\n",
       "</table>\n",
       "</div>"
      ],
      "text/plain": [
       "       id  response  propensity_score  ranking  precision_at_k\n",
       "0  235979         0               1.0        1             0.0\n",
       "1   56740         0               1.0        2             0.0\n",
       "2  227567         0               1.0        3             0.0\n",
       "3   43904         0               1.0        4             0.0\n",
       "4   68576         1               1.0        5             0.2"
      ]
     },
     "execution_count": 45,
     "metadata": {},
     "output_type": "execute_result"
    }
   ],
   "source": [
    "# reset index\n",
    "df8 = df8.reset_index( drop=True ) \n",
    "\n",
    "# criando ranking ordenado\n",
    "df8['ranking'] = df8.index + 1\n",
    "\n",
    "# Precision at k\n",
    "df8['precision_at_k'] = df8['response'].cumsum() / df8['ranking']\n",
    "\n",
    "# df8\n",
    "df8[['id', 'response', 'propensity_score', 'ranking', 'precision_at_k']].reset_index( drop=True ).head()"
   ]
  },
  {
   "cell_type": "code",
   "execution_count": null,
   "id": "caf319a1",
   "metadata": {
    "hidden": true
   },
   "outputs": [],
   "source": []
  },
  {
   "cell_type": "code",
   "execution_count": 46,
   "id": "ba5cb402",
   "metadata": {
    "ExecuteTime": {
     "end_time": "2022-09-09T10:29:54.336615Z",
     "start_time": "2022-09-09T10:29:53.820379Z"
    },
    "hidden": true
   },
   "outputs": [],
   "source": [
    "dt = DecisionTreeClassifier( max_depth=3,splitter=\"best\")\n",
    "\n",
    "dt.fit(x_train, y_train)\n",
    "\n",
    "yhat_dt = dt.predict_proba(x_val)"
   ]
  },
  {
   "cell_type": "code",
   "execution_count": 47,
   "id": "e2dfbc55",
   "metadata": {
    "ExecuteTime": {
     "end_time": "2022-09-09T10:29:54.496281Z",
     "start_time": "2022-09-09T10:29:54.338540Z"
    },
    "hidden": true
   },
   "outputs": [
    {
     "data": {
      "image/png": "[encoded data removed]",
      "text/plain": [
       "<Figure size 432x288 with 1 Axes>"
      ]
     },
     "metadata": {
      "needs_background": "light"
     },
     "output_type": "display_data"
    }
   ],
   "source": [
    "# Ganho Acumulado\n",
    "skplt.metrics.plot_cumulative_gain( y_val, yhat_dt )\n",
    "plt.title('Decision Tree');"
   ]
  },
  {
   "cell_type": "code",
   "execution_count": null,
   "id": "dca123f5",
   "metadata": {
    "hidden": true
   },
   "outputs": [],
   "source": []
  },
  {
   "cell_type": "code",
   "execution_count": null,
   "id": "1ef0ce1b",
   "metadata": {
    "hidden": true
   },
   "outputs": [],
   "source": []
  },
  {
   "cell_type": "code",
   "execution_count": null,
   "id": "1e67da00",
   "metadata": {
    "hidden": true
   },
   "outputs": [],
   "source": []
  },
  {
   "cell_type": "code",
   "execution_count": null,
   "id": "aa5288be",
   "metadata": {
    "hidden": true
   },
   "outputs": [],
   "source": []
  },
  {
   "cell_type": "code",
   "execution_count": null,
   "id": "6ee7f059",
   "metadata": {
    "hidden": true
   },
   "outputs": [],
   "source": []
  },
  {
   "cell_type": "code",
   "execution_count": null,
   "id": "28ee0fc7",
   "metadata": {
    "hidden": true
   },
   "outputs": [],
   "source": []
  },
  {
   "cell_type": "code",
   "execution_count": null,
   "id": "e1800c0e",
   "metadata": {
    "hidden": true
   },
   "outputs": [],
   "source": []
  },
  {
   "cell_type": "code",
   "execution_count": null,
   "id": "98c16fbb",
   "metadata": {
    "hidden": true
   },
   "outputs": [],
   "source": []
  },
  {
   "cell_type": "code",
   "execution_count": null,
   "id": "0990e46a",
   "metadata": {
    "hidden": true
   },
   "outputs": [],
   "source": []
  },
  {
   "cell_type": "code",
   "execution_count": null,
   "id": "90f079d3",
   "metadata": {
    "hidden": true
   },
   "outputs": [],
   "source": []
  },
  {
   "cell_type": "code",
   "execution_count": 48,
   "id": "17975bc0",
   "metadata": {
    "ExecuteTime": {
     "end_time": "2022-09-09T10:29:54.511767Z",
     "start_time": "2022-09-09T10:29:54.500135Z"
    },
    "hidden": true
   },
   "outputs": [],
   "source": [
    "# # ExtraTree\n",
    "\n",
    "# # Definição do Modelo\n",
    "# et = ensemble.ExtraTreesClassifier( n_estimators=1000, n_jobs=-1, random_state = 42)\n",
    "\n",
    "# # Treinamento do Modelo \n",
    "# et.fit( x_train, y_train)\n",
    "\n",
    "# # Precição do Modelo\n",
    "# yhat_etet.predict_proba( x_val )\n",
    "\n",
    "# # Ganho Acumulado\n",
    "# skplt.metrics.plot_cumulative_gain( y_val, yhat_knn )"
   ]
  },
  {
   "cell_type": "markdown",
   "id": "5a2dcd85",
   "metadata": {
    "hidden": true
   },
   "source": [
    "\n",
    "# 8.0. HYPERPARAMETER FINETUNING"
   ]
  },
  {
   "cell_type": "markdown",
   "id": "8f613b84",
   "metadata": {},
   "source": [
    "# 9.0. TRADUÇÃO E INTERPRETAÇÃO DO MODELO"
   ]
  },
  {
   "cell_type": "markdown",
   "id": "2e57fec4",
   "metadata": {
    "heading_collapsed": true
   },
   "source": [
    "# 10.0. DEPLOY DO MODELO"
   ]
  },
  {
   "cell_type": "code",
   "execution_count": 49,
   "id": "bd6ef8ae",
   "metadata": {
    "ExecuteTime": {
     "end_time": "2022-09-09T10:29:54.542830Z",
     "start_time": "2022-09-09T10:29:54.514689Z"
    },
    "hidden": true
   },
   "outputs": [],
   "source": [
    "class HealthInsurance:\n",
    "    def __init__( self ):\n",
    "        self.home_path='C:/Users/ander/repos/Health_Insurance_Cross_Sell'\n",
    "        self.annual_premium_scaler = pickle.load( open( self.home_path + 'src/features/annual_premium_scaler.pkl'))\n",
    "        self.age_scaler = pickle.load( open( self.home_path + 'src/features/age_scaler.pkl' ) ) \n",
    "        self.vintage_scaler = pickle.load( open( self.home_path + 'src/features/vintage_scaler.pkl' ) ) \n",
    "        self.target_encode_gender_scaler = pickle.load( open( self.home_path + 'src/features/target_encode_gender_scaler.pkl' ) )\n",
    "        self.target_encode_region_code_scaler = pickle.load( open( self.home_path + 'src/features/target_encode_region_code_scaler.pkl' ) )\n",
    "        self.fe_policy_sales_channel_scaler =   pickle.load( open( self.home_path + 'src/features/fe_policy_sales_channel_scaler.pkl' ) )\n",
    "        \n",
    "        \n",
    "    def data_cleaning( df1 ):\n",
    "        df1.region_code = df1.region_code.astype( \"int64\")\n",
    "        df1.annual_premium = df1.annual_premium.astype( \"int64\")\n",
    "        df1.policy_sales_channel = df1.policy_sales_channel.astype( \"int64\")\n",
    "        \n",
    "        return df1\n",
    "\n",
    "    def feature_engineering( df2 ):\n",
    "        # vehicle_age\n",
    "        df2['vehicle_age'] = df2['vehicle_age'].apply( lambda x: 'over_2_years' if x == '> 2 Years' else 'below_1_year' \n",
    "                                                      if x == '< 1 Year' else 'between_1_2_years' )\n",
    "        # vehicle demage\n",
    "        df2['vehicle_damage'] = df2['vehicle_damage'].apply( lambda x: 1 if x == 'Yes' else 0 )\n",
    "        \n",
    "        return df2\n",
    "    \n",
    "    def data_preparation( df3 ):\n",
    "        # annual_premium -> bem parecido com uma normal\n",
    "        df5['annual_premium']  = self.annual_premium_scaler.transform( df5[['annual_premium']].values )\n",
    "\n",
    "        # age -> Não é muito próxima de uma normal \n",
    "        df5['age'] = self.age_scaler.transform( df5[['age']].values )\n",
    "\n",
    "        # vintage -> Só vou reescalar, não aparenta ser útil\n",
    "        df5['vintage'] = self.vintage_scaler.transform( df5[['vintage']].values )\n",
    "\n",
    "        # gender -  One Hot Encoding /  Target Encoding\n",
    "        df5.loc[:, 'gender'] = df5['gender'].map( self.target_encode_gender_scaler )\n",
    "        \n",
    "        # region_code - Frequency Encoding, ou Target Encoding, ou Weighted Target Encoding\n",
    "        \n",
    "        df5.loc[:, 'region_code'] = df5['region_code'].map( self.target_encode_region_code_scaler )\n",
    "\n",
    "        # vehicle_age - One Hot Encoding / ORDER ENCODING / Frequence Encoding\n",
    "        df5 = pd.get_dummies( df5, prefix='vehicle_age', columns=['vehicle_age'])\n",
    "\n",
    "        # policy_sales_channel - Frequency Encoding\n",
    "        df5.loc[:, 'policy_sales_channel'] = df5['policy_sales_channel'].map( self.fe_policy_sales_channel_scaler )\n",
    "\n",
    "    \n",
    "        # 6.0. SELEÇÃO DE ATRIBUTOS\n",
    "        cols_selected = ['vintage', 'annual_premium', 'age', 'region_code', 'vehicle_damage', 'policy_sales_channel', 'previously_insured' ]\n",
    "        \n",
    "        return df5[cols_selected]\n",
    "    \n",
    "        def get_prediction( self, model, original_data, test_data ): \n",
    "            # predicao do modelo\n",
    "            pred = model.predict_proba( test_data )\n",
    "            \n",
    "            # juntando a predicao com o modelo real\n",
    "            original_data['prediction'] = pred\n",
    "            \n",
    "            return original_data.to_json( orient='records', date_format='iso')"
   ]
  }
 ],
 "metadata": {
  "hide_input": false,
  "kernelspec": {
   "display_name": "Python 3 (ipykernel)",
   "language": "python",
   "name": "python3"
  },
  "language_info": {
   "codemirror_mode": {
    "name": "ipython",
    "version": 3
   },
   "file_extension": ".py",
   "mimetype": "text/x-python",
   "name": "python",
   "nbconvert_exporter": "python",
   "pygments_lexer": "ipython3",
   "version": "3.9.12"
  },
  "toc": {
   "base_numbering": 1,
   "nav_menu": {},
   "number_sections": false,
   "sideBar": true,
   "skip_h1_title": false,
   "title_cell": "Table of Contents",
   "title_sidebar": "Contents",
   "toc_cell": false,
   "toc_position": {
    "height": "calc(100% - 180px)",
    "left": "10px",
    "top": "150px",
    "width": "310px"
   },
   "toc_section_display": true,
   "toc_window_display": false
  }
 },
 "nbformat": 4,
 "nbformat_minor": 5
}
