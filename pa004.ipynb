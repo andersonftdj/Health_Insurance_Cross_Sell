{
 "cells": [
  {
   "cell_type": "markdown",
   "id": "4293a8c9",
   "metadata": {},
   "source": [
    "# Cross-Sell Insurance"
   ]
  },
  {
   "cell_type": "markdown",
   "id": "28f4cd9d",
   "metadata": {
    "heading_collapsed": true
   },
   "source": [
    "# 0.0. IMPORTS"
   ]
  },
  {
   "cell_type": "code",
   "execution_count": 1,
   "id": "1f8643c6",
   "metadata": {
    "ExecuteTime": {
     "end_time": "2022-09-08T10:13:42.810095Z",
     "start_time": "2022-09-08T10:13:36.284115Z"
    },
    "hidden": true
   },
   "outputs": [],
   "source": [
    "import os\n",
    "import numpy                   as np\n",
    "import pandas                  as pd\n",
    "import pickle\n",
    "import seaborn                 as sns\n",
    "import psycopg2                as pg\n",
    "import scikitplot              as skplt\n",
    "import credentials.credentials as c\n",
    "\n",
    "\n",
    "from sklearn                   import ensemble, neighbors\n",
    "from sklearn.tree              import DecisionTreeClassifier\n",
    "from matplotlib                import pyplot as plt\n",
    "from sklearn.linear_model      import LogisticRegression\n",
    "from sklearn.preprocessing     import StandardScaler, MinMaxScaler, LabelEncoder\n",
    "from sklearn.model_selection   import train_test_split\n",
    "\n",
    "path = os.getcwd().replace('\\\\', '/')"
   ]
  },
  {
   "cell_type": "markdown",
   "id": "88b03c6b",
   "metadata": {
    "heading_collapsed": true,
    "hidden": true
   },
   "source": [
    "## 0.1. Helper Functions"
   ]
  },
  {
   "cell_type": "markdown",
   "id": "df6ebc6d",
   "metadata": {
    "heading_collapsed": true,
    "hidden": true
   },
   "source": [
    "## 0.2. Loading Data"
   ]
  },
  {
   "cell_type": "code",
   "execution_count": 2,
   "id": "78825de0",
   "metadata": {
    "ExecuteTime": {
     "end_time": "2022-09-08T10:13:43.594504Z",
     "start_time": "2022-09-08T10:13:42.814093Z"
    },
    "hidden": true
   },
   "outputs": [],
   "source": [
    "# # Criando a conexão e salvando arquivo\n",
    "\n",
    "# conn = pg.connect( user=c.username, \n",
    "#                    password=c.password,\n",
    "#                    host=c.host,\n",
    "#                    port=c.port,\n",
    "#                    database=c.database)\n",
    "# query =  \"\"\"\n",
    "#     SELECT *\n",
    "#     FROM pa004.users u LEFT JOIN pa004.vehicle   v ON u.id=v.id\n",
    "#                        LEFT JOIN pa004.insurance i ON u.id=i.id\n",
    "# \"\"\"\n",
    "# df_raw = pd.read_sql(query, conn)\n",
    "# df_raw = df_raw.loc[:, ~df_raw.columns.duplicated()]\n",
    "# path = os.getcwd().replace('\\\\', '/') + '/data/train.csv'\n",
    "# df_raw.to_csv(path, index=False)\n",
    "\n",
    "df_raw = pd.read_csv('data/train.csv')"
   ]
  },
  {
   "cell_type": "markdown",
   "id": "6cd4ccaa",
   "metadata": {
    "heading_collapsed": true
   },
   "source": [
    "# 1.0. DESCRIÇÃO DOS DADOS"
   ]
  },
  {
   "cell_type": "code",
   "execution_count": 3,
   "id": "e8b4e9a4",
   "metadata": {
    "ExecuteTime": {
     "end_time": "2022-09-08T10:13:43.640341Z",
     "start_time": "2022-09-08T10:13:43.600449Z"
    },
    "hidden": true
   },
   "outputs": [],
   "source": [
    "df1 = df_raw.copy()"
   ]
  },
  {
   "cell_type": "code",
   "execution_count": 4,
   "id": "75defd0f",
   "metadata": {
    "ExecuteTime": {
     "end_time": "2022-09-08T10:13:43.672258Z",
     "start_time": "2022-09-08T10:13:43.645328Z"
    },
    "hidden": true
   },
   "outputs": [
    {
     "data": {
      "text/plain": [
       "Index(['id', 'gender', 'age', 'region_code', 'policy_sales_channel',\n",
       "       'driving_license', 'vehicle_age', 'vehicle_damage',\n",
       "       'previously_insured', 'annual_premium', 'vintage', 'response'],\n",
       "      dtype='object')"
      ]
     },
     "execution_count": 4,
     "metadata": {},
     "output_type": "execute_result"
    }
   ],
   "source": [
    "df1.columns"
   ]
  },
  {
   "cell_type": "markdown",
   "id": "16a1b54d",
   "metadata": {
    "hidden": true
   },
   "source": [
    "## 1.1. Dimensão dos dados"
   ]
  },
  {
   "cell_type": "code",
   "execution_count": 5,
   "id": "2aaf476a",
   "metadata": {
    "ExecuteTime": {
     "end_time": "2022-09-08T10:13:43.702176Z",
     "start_time": "2022-09-08T10:13:43.676246Z"
    },
    "hidden": true
   },
   "outputs": [
    {
     "name": "stdout",
     "output_type": "stream",
     "text": [
      "Número de Linhas: 381109\n",
      "Número de Colunas: 12\n"
     ]
    }
   ],
   "source": [
    "df1.shape\n",
    "print(\"Número de Linhas: {}\".format(df1.shape[0]))\n",
    "print(\"Número de Colunas: {}\".format(df1.shape[1]))"
   ]
  },
  {
   "cell_type": "markdown",
   "id": "06bc48f7",
   "metadata": {
    "hidden": true
   },
   "source": [
    "## 1.2. Tipo de Dados"
   ]
  },
  {
   "cell_type": "code",
   "execution_count": 6,
   "id": "af710263",
   "metadata": {
    "ExecuteTime": {
     "end_time": "2022-09-08T10:13:43.733094Z",
     "start_time": "2022-09-08T10:13:43.706169Z"
    },
    "hidden": true
   },
   "outputs": [
    {
     "data": {
      "text/plain": [
       "id                        int64\n",
       "gender                   object\n",
       "age                       int64\n",
       "region_code             float64\n",
       "policy_sales_channel    float64\n",
       "driving_license           int64\n",
       "vehicle_age              object\n",
       "vehicle_damage           object\n",
       "previously_insured        int64\n",
       "annual_premium          float64\n",
       "vintage                   int64\n",
       "response                  int64\n",
       "dtype: object"
      ]
     },
     "execution_count": 6,
     "metadata": {},
     "output_type": "execute_result"
    }
   ],
   "source": [
    "df1.dtypes"
   ]
  },
  {
   "cell_type": "markdown",
   "id": "24704cfd",
   "metadata": {
    "hidden": true
   },
   "source": [
    "## 1.3. Valores Ausentes"
   ]
  },
  {
   "cell_type": "code",
   "execution_count": 7,
   "id": "3a47d6d2",
   "metadata": {
    "ExecuteTime": {
     "end_time": "2022-09-08T10:13:44.099198Z",
     "start_time": "2022-09-08T10:13:43.738081Z"
    },
    "hidden": true
   },
   "outputs": [
    {
     "data": {
      "text/plain": [
       "id                      0\n",
       "gender                  0\n",
       "age                     0\n",
       "region_code             0\n",
       "policy_sales_channel    0\n",
       "driving_license         0\n",
       "vehicle_age             0\n",
       "vehicle_damage          0\n",
       "previously_insured      0\n",
       "annual_premium          0\n",
       "vintage                 0\n",
       "response                0\n",
       "dtype: int64"
      ]
     },
     "execution_count": 7,
     "metadata": {},
     "output_type": "execute_result"
    }
   ],
   "source": [
    "df1.isnull().sum()"
   ]
  },
  {
   "cell_type": "markdown",
   "id": "511c4995",
   "metadata": {
    "hidden": true
   },
   "source": [
    "## 1.4. Alterando Tipo de Dados"
   ]
  },
  {
   "cell_type": "code",
   "execution_count": 8,
   "id": "a4601bb3",
   "metadata": {
    "ExecuteTime": {
     "end_time": "2022-09-08T10:13:44.145076Z",
     "start_time": "2022-09-08T10:13:44.102189Z"
    },
    "hidden": true
   },
   "outputs": [],
   "source": [
    "df1.region_code = df1.region_code.astype( \"int64\")\n",
    "df1.annual_premium = df1.annual_premium.astype( \"int64\")\n",
    "df1.policy_sales_channel = df1.policy_sales_channel.astype( \"int64\")"
   ]
  },
  {
   "cell_type": "code",
   "execution_count": 9,
   "id": "29241bfb",
   "metadata": {
    "ExecuteTime": {
     "end_time": "2022-09-08T10:13:44.175992Z",
     "start_time": "2022-09-08T10:13:44.152022Z"
    },
    "hidden": true
   },
   "outputs": [
    {
     "data": {
      "text/plain": [
       "id                       int64\n",
       "gender                  object\n",
       "age                      int64\n",
       "region_code              int64\n",
       "policy_sales_channel     int64\n",
       "driving_license          int64\n",
       "vehicle_age             object\n",
       "vehicle_damage          object\n",
       "previously_insured       int64\n",
       "annual_premium           int64\n",
       "vintage                  int64\n",
       "response                 int64\n",
       "dtype: object"
      ]
     },
     "execution_count": 9,
     "metadata": {},
     "output_type": "execute_result"
    }
   ],
   "source": [
    "df1.dtypes"
   ]
  },
  {
   "cell_type": "markdown",
   "id": "0d0aa2dc",
   "metadata": {
    "hidden": true
   },
   "source": [
    "## 1.5. Estatística Descritiva\n"
   ]
  },
  {
   "cell_type": "code",
   "execution_count": 10,
   "id": "048e59ea",
   "metadata": {
    "ExecuteTime": {
     "end_time": "2022-09-08T10:13:44.190918Z",
     "start_time": "2022-09-08T10:13:44.179944Z"
    },
    "hidden": true
   },
   "outputs": [],
   "source": [
    "num_att = df1.select_dtypes( include=['int64'])\n",
    "cat_att = df1.select_dtypes( exclude=['int64'])"
   ]
  },
  {
   "cell_type": "markdown",
   "id": "d77e9ef2",
   "metadata": {
    "hidden": true
   },
   "source": [
    "### 1.5.1. Atributos Numericos \n"
   ]
  },
  {
   "cell_type": "code",
   "execution_count": 11,
   "id": "5f5f7d23",
   "metadata": {
    "ExecuteTime": {
     "end_time": "2022-09-08T10:13:45.106080Z",
     "start_time": "2022-09-08T10:13:44.195902Z"
    },
    "hidden": true
   },
   "outputs": [
    {
     "data": {
      "text/html": [
       "<div>\n",
       "<style scoped>\n",
       "    .dataframe tbody tr th:only-of-type {\n",
       "        vertical-align: middle;\n",
       "    }\n",
       "\n",
       "    .dataframe tbody tr th {\n",
       "        vertical-align: top;\n",
       "    }\n",
       "\n",
       "    .dataframe thead th {\n",
       "        text-align: right;\n",
       "    }\n",
       "</style>\n",
       "<table border=\"1\" class=\"dataframe\">\n",
       "  <thead>\n",
       "    <tr style=\"text-align: right;\">\n",
       "      <th></th>\n",
       "      <th>Atributos</th>\n",
       "      <th>min</th>\n",
       "      <th>max</th>\n",
       "      <th>range</th>\n",
       "      <th>media</th>\n",
       "      <th>mediana</th>\n",
       "      <th>std</th>\n",
       "      <th>skew</th>\n",
       "      <th>kurtosis</th>\n",
       "    </tr>\n",
       "  </thead>\n",
       "  <tbody>\n",
       "    <tr>\n",
       "      <th>0</th>\n",
       "      <td>id</td>\n",
       "      <td>1.0</td>\n",
       "      <td>381109.0</td>\n",
       "      <td>381108.0</td>\n",
       "      <td>190555.000000</td>\n",
       "      <td>190555.0</td>\n",
       "      <td>110016.691870</td>\n",
       "      <td>-8.071174e-18</td>\n",
       "      <td>-1.200000</td>\n",
       "    </tr>\n",
       "    <tr>\n",
       "      <th>1</th>\n",
       "      <td>age</td>\n",
       "      <td>20.0</td>\n",
       "      <td>85.0</td>\n",
       "      <td>65.0</td>\n",
       "      <td>38.822584</td>\n",
       "      <td>36.0</td>\n",
       "      <td>15.511591</td>\n",
       "      <td>6.725390e-01</td>\n",
       "      <td>-0.565655</td>\n",
       "    </tr>\n",
       "    <tr>\n",
       "      <th>2</th>\n",
       "      <td>region_code</td>\n",
       "      <td>0.0</td>\n",
       "      <td>52.0</td>\n",
       "      <td>52.0</td>\n",
       "      <td>26.388807</td>\n",
       "      <td>28.0</td>\n",
       "      <td>13.229871</td>\n",
       "      <td>-1.152664e-01</td>\n",
       "      <td>-0.867857</td>\n",
       "    </tr>\n",
       "    <tr>\n",
       "      <th>3</th>\n",
       "      <td>policy_sales_channel</td>\n",
       "      <td>1.0</td>\n",
       "      <td>163.0</td>\n",
       "      <td>162.0</td>\n",
       "      <td>112.034295</td>\n",
       "      <td>133.0</td>\n",
       "      <td>54.203924</td>\n",
       "      <td>-9.000081e-01</td>\n",
       "      <td>-0.970810</td>\n",
       "    </tr>\n",
       "    <tr>\n",
       "      <th>4</th>\n",
       "      <td>driving_license</td>\n",
       "      <td>0.0</td>\n",
       "      <td>1.0</td>\n",
       "      <td>1.0</td>\n",
       "      <td>0.997869</td>\n",
       "      <td>1.0</td>\n",
       "      <td>0.046109</td>\n",
       "      <td>-2.159518e+01</td>\n",
       "      <td>464.354302</td>\n",
       "    </tr>\n",
       "    <tr>\n",
       "      <th>5</th>\n",
       "      <td>previously_insured</td>\n",
       "      <td>0.0</td>\n",
       "      <td>1.0</td>\n",
       "      <td>1.0</td>\n",
       "      <td>0.458210</td>\n",
       "      <td>0.0</td>\n",
       "      <td>0.498251</td>\n",
       "      <td>1.677471e-01</td>\n",
       "      <td>-1.971871</td>\n",
       "    </tr>\n",
       "    <tr>\n",
       "      <th>6</th>\n",
       "      <td>annual_premium</td>\n",
       "      <td>2630.0</td>\n",
       "      <td>540165.0</td>\n",
       "      <td>537535.0</td>\n",
       "      <td>30564.389581</td>\n",
       "      <td>31669.0</td>\n",
       "      <td>17213.132474</td>\n",
       "      <td>1.766087e+00</td>\n",
       "      <td>34.004569</td>\n",
       "    </tr>\n",
       "    <tr>\n",
       "      <th>7</th>\n",
       "      <td>vintage</td>\n",
       "      <td>10.0</td>\n",
       "      <td>299.0</td>\n",
       "      <td>289.0</td>\n",
       "      <td>154.347397</td>\n",
       "      <td>154.0</td>\n",
       "      <td>83.671194</td>\n",
       "      <td>3.029517e-03</td>\n",
       "      <td>-1.200688</td>\n",
       "    </tr>\n",
       "    <tr>\n",
       "      <th>8</th>\n",
       "      <td>response</td>\n",
       "      <td>0.0</td>\n",
       "      <td>1.0</td>\n",
       "      <td>1.0</td>\n",
       "      <td>0.122563</td>\n",
       "      <td>0.0</td>\n",
       "      <td>0.327935</td>\n",
       "      <td>2.301906e+00</td>\n",
       "      <td>3.298788</td>\n",
       "    </tr>\n",
       "  </tbody>\n",
       "</table>\n",
       "</div>"
      ],
      "text/plain": [
       "              Atributos     min       max     range          media   mediana  \\\n",
       "0                    id     1.0  381109.0  381108.0  190555.000000  190555.0   \n",
       "1                   age    20.0      85.0      65.0      38.822584      36.0   \n",
       "2           region_code     0.0      52.0      52.0      26.388807      28.0   \n",
       "3  policy_sales_channel     1.0     163.0     162.0     112.034295     133.0   \n",
       "4       driving_license     0.0       1.0       1.0       0.997869       1.0   \n",
       "5    previously_insured     0.0       1.0       1.0       0.458210       0.0   \n",
       "6        annual_premium  2630.0  540165.0  537535.0   30564.389581   31669.0   \n",
       "7               vintage    10.0     299.0     289.0     154.347397     154.0   \n",
       "8              response     0.0       1.0       1.0       0.122563       0.0   \n",
       "\n",
       "             std          skew    kurtosis  \n",
       "0  110016.691870 -8.071174e-18   -1.200000  \n",
       "1      15.511591  6.725390e-01   -0.565655  \n",
       "2      13.229871 -1.152664e-01   -0.867857  \n",
       "3      54.203924 -9.000081e-01   -0.970810  \n",
       "4       0.046109 -2.159518e+01  464.354302  \n",
       "5       0.498251  1.677471e-01   -1.971871  \n",
       "6   17213.132474  1.766087e+00   34.004569  \n",
       "7      83.671194  3.029517e-03   -1.200688  \n",
       "8       0.327935  2.301906e+00    3.298788  "
      ]
     },
     "execution_count": 11,
     "metadata": {},
     "output_type": "execute_result"
    }
   ],
   "source": [
    "# Medidas de tendencia central\n",
    "ct1 = pd.DataFrame( num_att.apply(np.mean) ).T\n",
    "ct2 = pd.DataFrame( num_att.apply(np.median) ).T\n",
    "\n",
    "# Medidas de Dispersão - std, min, max, range, skew, kurtosis\n",
    "\n",
    "d1 = pd.DataFrame( num_att.apply(np.std) ).T\n",
    "d2 = pd.DataFrame( num_att.apply(min) ).T\n",
    "d3 = pd.DataFrame( num_att.apply(max) ).T\n",
    "d4 = pd.DataFrame( num_att.apply( lambda x: x.max() - x.min() ) ).T\n",
    "d5 = pd.DataFrame( num_att.apply( lambda x: x.skew() ) ).T\n",
    "d6 = pd.DataFrame( num_att.apply( lambda x: x.kurtosis() ) ).T\n",
    "                  \n",
    "m = pd.concat( [d2, d3, d4, ct1, ct2, d1, d5, d6] ).T.reset_index()\n",
    "m.columns = [\"Atributos\", 'min', 'max', 'range', 'media', 'mediana', 'std', 'skew', 'kurtosis']\n",
    "m"
   ]
  },
  {
   "cell_type": "markdown",
   "id": "cda4ba4b",
   "metadata": {
    "heading_collapsed": true
   },
   "source": [
    "# 2.0. ENGENHARIA DE FEATURES"
   ]
  },
  {
   "cell_type": "code",
   "execution_count": 12,
   "id": "737648a3",
   "metadata": {
    "ExecuteTime": {
     "end_time": "2022-09-08T10:13:45.201776Z",
     "start_time": "2022-09-08T10:13:45.108026Z"
    },
    "hidden": true
   },
   "outputs": [
    {
     "data": {
      "text/plain": [
       "gender                             [Male, Female]\n",
       "vehicle_age       [< 1 Year, 1-2 Year, > 2 Years]\n",
       "vehicle_damage                          [Yes, No]\n",
       "dtype: object"
      ]
     },
     "execution_count": 12,
     "metadata": {},
     "output_type": "execute_result"
    }
   ],
   "source": [
    "df2 = df1.copy()\n",
    "cat_att.apply( lambda x: x.unique() )"
   ]
  },
  {
   "cell_type": "code",
   "execution_count": 13,
   "id": "00168c17",
   "metadata": {
    "ExecuteTime": {
     "end_time": "2022-09-08T10:13:45.409267Z",
     "start_time": "2022-09-08T10:13:45.203770Z"
    },
    "hidden": true
   },
   "outputs": [],
   "source": [
    "# vehicle_age\n",
    "df2['vehicle_age'] = df2['vehicle_age'].apply( \n",
    "    lambda x: 'over_2_years' if x == '> 2 Years' else 'below_1_year' \n",
    "                             if x == '< 1 Year' else 'between_1_2_years' )\n",
    "\n",
    "# vehicle demage\n",
    "df2['vehicle_damage'] = df2['vehicle_damage'].apply( lambda x: 1 if x == 'Yes' else 0 )"
   ]
  },
  {
   "cell_type": "markdown",
   "id": "fe901d0c",
   "metadata": {
    "heading_collapsed": true
   },
   "source": [
    "# 3.0. FILTRAGEM DOS DADOS"
   ]
  },
  {
   "cell_type": "code",
   "execution_count": 14,
   "id": "c6e561c9",
   "metadata": {
    "ExecuteTime": {
     "end_time": "2022-09-08T10:13:45.471055Z",
     "start_time": "2022-09-08T10:13:45.410217Z"
    },
    "hidden": true
   },
   "outputs": [],
   "source": [
    "df3 = df2.copy()"
   ]
  },
  {
   "cell_type": "markdown",
   "id": "afd0831d",
   "metadata": {
    "heading_collapsed": true
   },
   "source": [
    "# 4.0. ANÁLISE EXPLORATÓRIA DE DADOS"
   ]
  },
  {
   "cell_type": "code",
   "execution_count": 15,
   "id": "f0311fb9",
   "metadata": {
    "ExecuteTime": {
     "end_time": "2022-09-08T10:13:45.502970Z",
     "start_time": "2022-09-08T10:13:45.473049Z"
    },
    "hidden": true
   },
   "outputs": [],
   "source": [
    "df4 = df3.copy()"
   ]
  },
  {
   "cell_type": "markdown",
   "id": "9666b90e",
   "metadata": {
    "ExecuteTime": {
     "end_time": "2022-08-12T02:01:45.809559Z",
     "start_time": "2022-08-12T02:01:45.804570Z"
    },
    "hidden": true
   },
   "source": [
    "## 4.1. Análise Univariada"
   ]
  },
  {
   "cell_type": "code",
   "execution_count": 16,
   "id": "5a428eb9",
   "metadata": {
    "ExecuteTime": {
     "end_time": "2022-09-08T10:13:45.785962Z",
     "start_time": "2022-09-08T10:13:45.504966Z"
    },
    "hidden": true
   },
   "outputs": [
    {
     "data": {
      "image/png": "[encoded data removed]",
      "text/plain": [
       "<Figure size 432x288 with 1 Axes>"
      ]
     },
     "metadata": {
      "needs_background": "light"
     },
     "output_type": "display_data"
    }
   ],
   "source": [
    "# Age\n",
    "sns.boxplot(x='response', y='age',data=df4);"
   ]
  },
  {
   "cell_type": "code",
   "execution_count": 55,
   "id": "c1df02e4",
   "metadata": {
    "ExecuteTime": {
     "end_time": "2022-09-08T10:16:39.527661Z",
     "start_time": "2022-09-08T10:16:38.212431Z"
    },
    "cell_style": "center",
    "hidden": true
   },
   "outputs": [
    {
     "data": {
      "image/png": "[encoded data removed]",
      "text/plain": [
       "<Figure size 1080x576 with 2 Axes>"
      ]
     },
     "metadata": {
      "needs_background": "light"
     },
     "output_type": "display_data"
    }
   ],
   "source": [
    "# aux00 =  df4.loc[ df4['response'] == 0, 'age']\n",
    "# sns.histplot( aux00 );\n",
    "\n",
    "\n",
    "fig, axs = plt.subplots( nrows=2, figsize=(15,8) )\n",
    "sns.countplot(x='age', data = df4[ df4['response'] == 0], hue='response', ax=axs[0])\n",
    "sns.countplot(x='age', data = df4[ df4['response'] == 1], hue='response', ax=axs[1]);"
   ]
  },
  {
   "cell_type": "code",
   "execution_count": 18,
   "id": "ac623444",
   "metadata": {
    "ExecuteTime": {
     "end_time": "2022-09-08T10:13:46.412572Z",
     "start_time": "2022-09-08T10:13:46.164986Z"
    },
    "cell_style": "center",
    "hidden": true
   },
   "outputs": [
    {
     "data": {
      "image/png": "[encoded data removed]",
      "text/plain": [
       "<Figure size 432x288 with 1 Axes>"
      ]
     },
     "metadata": {
      "needs_background": "light"
     },
     "output_type": "display_data"
    }
   ],
   "source": [
    "aux00 =  df4.loc[ df4['response'] == 1, 'age']\n",
    "sns.histplot( aux00 );"
   ]
  },
  {
   "cell_type": "code",
   "execution_count": 19,
   "id": "910e40da",
   "metadata": {
    "ExecuteTime": {
     "end_time": "2022-09-08T10:13:46.633298Z",
     "start_time": "2022-09-08T10:13:46.414957Z"
    },
    "hidden": true
   },
   "outputs": [
    {
     "data": {
      "image/png": "[encoded data removed]",
      "text/plain": [
       "<Figure size 432x288 with 1 Axes>"
      ]
     },
     "metadata": {
      "needs_background": "light"
     },
     "output_type": "display_data"
    }
   ],
   "source": [
    "# Annual premium\n",
    "aux00 = df4.loc[ df4['annual_premium'] < 80000]\n",
    "sns.boxplot(x='response', y=\"annual_premium\", data=aux00);"
   ]
  },
  {
   "cell_type": "code",
   "execution_count": 20,
   "id": "efa21570",
   "metadata": {
    "ExecuteTime": {
     "end_time": "2022-09-08T10:13:47.395253Z",
     "start_time": "2022-09-08T10:13:46.635245Z"
    },
    "cell_style": "split",
    "hidden": true
   },
   "outputs": [
    {
     "data": {
      "image/png": "[encoded data removed]",
      "text/plain": [
       "<Figure size 432x288 with 1 Axes>"
      ]
     },
     "metadata": {
      "needs_background": "light"
     },
     "output_type": "display_data"
    }
   ],
   "source": [
    "aux = df4.loc[(df4['annual_premium'] > 10000) &(df4['annual_premium'] < 80000 )]\n",
    "aux00 = aux.loc[aux['response'] == 0, 'annual_premium']\n",
    "sns.histplot( aux00 );"
   ]
  },
  {
   "cell_type": "code",
   "execution_count": 21,
   "id": "92ea0518",
   "metadata": {
    "ExecuteTime": {
     "end_time": "2022-09-08T10:13:47.951726Z",
     "start_time": "2022-09-08T10:13:47.399203Z"
    },
    "cell_style": "split",
    "hidden": true
   },
   "outputs": [
    {
     "data": {
      "image/png": "[encoded data removed]",
      "text/plain": [
       "<Figure size 432x288 with 1 Axes>"
      ]
     },
     "metadata": {
      "needs_background": "light"
     },
     "output_type": "display_data"
    }
   ],
   "source": [
    "aux = df4.loc[(df4['annual_premium'] > 10000) &(df4['annual_premium'] < 80000 )]\n",
    "aux00 = aux.loc[aux['response'] == 1, 'annual_premium']\n",
    "sns.histplot( aux00 );"
   ]
  },
  {
   "cell_type": "code",
   "execution_count": 22,
   "id": "da8ef0fb",
   "metadata": {
    "ExecuteTime": {
     "end_time": "2022-09-08T10:13:48.187096Z",
     "start_time": "2022-09-08T10:13:47.955716Z"
    },
    "hidden": true
   },
   "outputs": [
    {
     "data": {
      "image/png": "[encoded data removed]",
      "text/plain": [
       "<Figure size 432x288 with 1 Axes>"
      ]
     },
     "metadata": {
      "needs_background": "light"
     },
     "output_type": "display_data"
    }
   ],
   "source": [
    "# driving license\n",
    "aux = df4[['driving_license', 'response']].groupby('response').sum().reset_index()\n",
    "aux.head()\n",
    "\n",
    "aux['driving_license_perc'] = aux['driving_license'] / aux['driving_license'].sum()\n",
    "sns.barplot(x='response', y='driving_license', data=aux);\n",
    "\n",
    "# eu tenho muito mais pessoas que não dirigem e tmb não estão interessadas em adquirir o seguro"
   ]
  },
  {
   "cell_type": "code",
   "execution_count": 23,
   "id": "4c1e45f9",
   "metadata": {
    "ExecuteTime": {
     "end_time": "2022-09-08T10:13:48.628915Z",
     "start_time": "2022-09-08T10:13:48.191088Z"
    },
    "hidden": true
   },
   "outputs": [
    {
     "data": {
      "image/png": "[encoded data removed]",
      "text/plain": [
       "<Figure size 432x288 with 1 Axes>"
      ]
     },
     "metadata": {
      "needs_background": "light"
     },
     "output_type": "display_data"
    }
   ],
   "source": [
    "# Region Code\n",
    "aux = df4[['id', 'region_code', 'response']].groupby(['region_code', 'response']).count().reset_index()\n",
    "sns.scatterplot(x='region_code', y='id', hue='response', data=aux);"
   ]
  },
  {
   "cell_type": "code",
   "execution_count": 24,
   "id": "dd829ddd",
   "metadata": {
    "ExecuteTime": {
     "end_time": "2022-09-08T10:13:48.738620Z",
     "start_time": "2022-09-08T10:13:48.632904Z"
    },
    "hidden": true
   },
   "outputs": [
    {
     "data": {
      "text/html": [
       "<div>\n",
       "<style scoped>\n",
       "    .dataframe tbody tr th:only-of-type {\n",
       "        vertical-align: middle;\n",
       "    }\n",
       "\n",
       "    .dataframe tbody tr th {\n",
       "        vertical-align: top;\n",
       "    }\n",
       "\n",
       "    .dataframe thead th {\n",
       "        text-align: right;\n",
       "    }\n",
       "</style>\n",
       "<table border=\"1\" class=\"dataframe\">\n",
       "  <thead>\n",
       "    <tr style=\"text-align: right;\">\n",
       "      <th>response</th>\n",
       "      <th>0</th>\n",
       "      <th>1</th>\n",
       "    </tr>\n",
       "    <tr>\n",
       "      <th>previously_insured</th>\n",
       "      <th></th>\n",
       "      <th></th>\n",
       "    </tr>\n",
       "  </thead>\n",
       "  <tbody>\n",
       "    <tr>\n",
       "      <th>0</th>\n",
       "      <td>0.774546</td>\n",
       "      <td>0.225454</td>\n",
       "    </tr>\n",
       "    <tr>\n",
       "      <th>1</th>\n",
       "      <td>0.999095</td>\n",
       "      <td>0.000905</td>\n",
       "    </tr>\n",
       "  </tbody>\n",
       "</table>\n",
       "</div>"
      ],
      "text/plain": [
       "response                   0         1\n",
       "previously_insured                    \n",
       "0                   0.774546  0.225454\n",
       "1                   0.999095  0.000905"
      ]
     },
     "execution_count": 24,
     "metadata": {},
     "output_type": "execute_result"
    }
   ],
   "source": [
    "# previously_insured\n",
    "pd.crosstab( df4['previously_insured'], df4['response'] ).apply( lambda x: x/x.sum(), axis=1)"
   ]
  },
  {
   "cell_type": "code",
   "execution_count": 25,
   "id": "c9243b73",
   "metadata": {
    "ExecuteTime": {
     "end_time": "2022-09-08T10:13:48.882275Z",
     "start_time": "2022-09-08T10:13:48.742609Z"
    },
    "hidden": true
   },
   "outputs": [
    {
     "data": {
      "text/html": [
       "<div>\n",
       "<style scoped>\n",
       "    .dataframe tbody tr th:only-of-type {\n",
       "        vertical-align: middle;\n",
       "    }\n",
       "\n",
       "    .dataframe tbody tr th {\n",
       "        vertical-align: top;\n",
       "    }\n",
       "\n",
       "    .dataframe thead th {\n",
       "        text-align: right;\n",
       "    }\n",
       "</style>\n",
       "<table border=\"1\" class=\"dataframe\">\n",
       "  <thead>\n",
       "    <tr style=\"text-align: right;\">\n",
       "      <th></th>\n",
       "      <th>vehicle_age</th>\n",
       "      <th>response</th>\n",
       "      <th>0</th>\n",
       "    </tr>\n",
       "  </thead>\n",
       "  <tbody>\n",
       "    <tr>\n",
       "      <th>1</th>\n",
       "      <td>below_1_year</td>\n",
       "      <td>0</td>\n",
       "      <td>0.413488</td>\n",
       "    </tr>\n",
       "    <tr>\n",
       "      <th>4</th>\n",
       "      <td>below_1_year</td>\n",
       "      <td>1</td>\n",
       "      <td>0.018897</td>\n",
       "    </tr>\n",
       "    <tr>\n",
       "      <th>0</th>\n",
       "      <td>between_1_2_years</td>\n",
       "      <td>0</td>\n",
       "      <td>0.434285</td>\n",
       "    </tr>\n",
       "    <tr>\n",
       "      <th>2</th>\n",
       "      <td>between_1_2_years</td>\n",
       "      <td>1</td>\n",
       "      <td>0.091328</td>\n",
       "    </tr>\n",
       "    <tr>\n",
       "      <th>3</th>\n",
       "      <td>over_2_years</td>\n",
       "      <td>0</td>\n",
       "      <td>0.029663</td>\n",
       "    </tr>\n",
       "    <tr>\n",
       "      <th>5</th>\n",
       "      <td>over_2_years</td>\n",
       "      <td>1</td>\n",
       "      <td>0.012338</td>\n",
       "    </tr>\n",
       "  </tbody>\n",
       "</table>\n",
       "</div>"
      ],
      "text/plain": [
       "         vehicle_age  response         0\n",
       "1       below_1_year         0  0.413488\n",
       "4       below_1_year         1  0.018897\n",
       "0  between_1_2_years         0  0.434285\n",
       "2  between_1_2_years         1  0.091328\n",
       "3       over_2_years         0  0.029663\n",
       "5       over_2_years         1  0.012338"
      ]
     },
     "execution_count": 25,
     "metadata": {},
     "output_type": "execute_result"
    }
   ],
   "source": [
    "# vehicle_age\n",
    "# df4[['id', 'vehicle_age', 'response']].groupby(['vehicle_age', 'response']).count().reset_index()\n",
    "df4[['vehicle_age', 'response']].value_counts( normalize=True).reset_index().sort_values('vehicle_age')"
   ]
  },
  {
   "cell_type": "code",
   "execution_count": 26,
   "id": "25d43dab",
   "metadata": {
    "ExecuteTime": {
     "end_time": "2022-09-08T10:13:50.735578Z",
     "start_time": "2022-09-08T10:13:48.887227Z"
    },
    "hidden": true
   },
   "outputs": [
    {
     "data": {
      "image/png": "[encoded data removed]",
      "text/plain": [
       "<Figure size 1728x864 with 1 Axes>"
      ]
     },
     "metadata": {
      "needs_background": "light"
     },
     "output_type": "display_data"
    }
   ],
   "source": [
    "# policy_sales_channel\n",
    "plt.figure( figsize=(24,12))\n",
    "aux =  df4[['policy_sales_channel', 'response']].groupby('policy_sales_channel').sum().reset_index()\n",
    "sns.barplot( x='response', y='policy_sales_channel', data=aux);"
   ]
  },
  {
   "cell_type": "code",
   "execution_count": 27,
   "id": "842e3488",
   "metadata": {
    "ExecuteTime": {
     "end_time": "2022-09-08T10:13:50.894441Z",
     "start_time": "2022-09-08T10:13:50.741597Z"
    },
    "hidden": true
   },
   "outputs": [
    {
     "data": {
      "text/plain": [
       "<AxesSubplot:xlabel='response', ylabel='vintage'>"
      ]
     },
     "execution_count": 27,
     "metadata": {},
     "output_type": "execute_result"
    },
    {
     "data": {
      "image/png": "[encoded data removed]",
      "text/plain": [
       "<Figure size 432x288 with 1 Axes>"
      ]
     },
     "metadata": {
      "needs_background": "light"
     },
     "output_type": "display_data"
    }
   ],
   "source": [
    "# vintage\n",
    "sns.boxplot(x='response', y='vintage', data=df4)"
   ]
  },
  {
   "cell_type": "code",
   "execution_count": 28,
   "id": "399f10e2",
   "metadata": {
    "ExecuteTime": {
     "end_time": "2022-09-08T10:13:51.239172Z",
     "start_time": "2022-09-08T10:13:50.897038Z"
    },
    "cell_style": "split",
    "hidden": true
   },
   "outputs": [
    {
     "data": {
      "text/plain": [
       "<AxesSubplot:xlabel='vintage', ylabel='Count'>"
      ]
     },
     "execution_count": 28,
     "metadata": {},
     "output_type": "execute_result"
    },
    {
     "data": {
      "image/png": "[encoded data removed]",
      "text/plain": [
       "<Figure size 432x288 with 1 Axes>"
      ]
     },
     "metadata": {
      "needs_background": "light"
     },
     "output_type": "display_data"
    }
   ],
   "source": [
    "aux =  df4.loc[ df4.response == 0, 'vintage']\n",
    "\n",
    "sns.histplot( aux )"
   ]
  },
  {
   "cell_type": "code",
   "execution_count": 29,
   "id": "63f5912d",
   "metadata": {
    "ExecuteTime": {
     "end_time": "2022-09-08T10:13:51.429885Z",
     "start_time": "2022-09-08T10:13:51.241135Z"
    },
    "cell_style": "split",
    "hidden": true
   },
   "outputs": [
    {
     "data": {
      "text/plain": [
       "<AxesSubplot:xlabel='vintage', ylabel='Count'>"
      ]
     },
     "execution_count": 29,
     "metadata": {},
     "output_type": "execute_result"
    },
    {
     "data": {
      "image/png": "[encoded data removed]",
      "text/plain": [
       "<Figure size 432x288 with 1 Axes>"
      ]
     },
     "metadata": {
      "needs_background": "light"
     },
     "output_type": "display_data"
    }
   ],
   "source": [
    "aux =  df4.loc[ df4.response == 1, 'vintage']\n",
    "\n",
    "sns.histplot( aux )"
   ]
  },
  {
   "cell_type": "markdown",
   "id": "29d28a47",
   "metadata": {
    "heading_collapsed": true
   },
   "source": [
    "# 5.0. PREPARAÇÃO DOS DADOS"
   ]
  },
  {
   "cell_type": "code",
   "execution_count": 30,
   "id": "068bf98d",
   "metadata": {
    "ExecuteTime": {
     "end_time": "2022-09-08T10:13:51.445971Z",
     "start_time": "2022-09-08T10:13:51.431607Z"
    },
    "hidden": true
   },
   "outputs": [],
   "source": [
    "df5 = df4.copy()"
   ]
  },
  {
   "cell_type": "code",
   "execution_count": 31,
   "id": "48cc561d",
   "metadata": {
    "ExecuteTime": {
     "end_time": "2022-09-08T10:13:51.572271Z",
     "start_time": "2022-09-08T10:13:51.448563Z"
    },
    "hidden": true
   },
   "outputs": [],
   "source": [
    "X = df5.drop('response', axis=1)\n",
    "y = df5.response.copy()\n",
    "\n",
    "x_train, x_validation, y_train, y_validation = train_test_split( X, y, test_size=0.2)\n",
    "\n",
    "df5 = pd.concat( [x_train, y_train], axis=1)"
   ]
  },
  {
   "cell_type": "markdown",
   "id": "037699ec",
   "metadata": {
    "hidden": true
   },
   "source": [
    "## 5.1. Standardization"
   ]
  },
  {
   "cell_type": "code",
   "execution_count": null,
   "id": "4092e2bf",
   "metadata": {
    "ExecuteTime": {
     "end_time": "2022-09-07T13:24:33.286502Z",
     "start_time": "2022-09-07T13:24:33.273490Z"
    },
    "hidden": true
   },
   "outputs": [],
   "source": []
  },
  {
   "cell_type": "code",
   "execution_count": 32,
   "id": "ab3f0340",
   "metadata": {
    "ExecuteTime": {
     "end_time": "2022-09-08T10:13:51.634779Z",
     "start_time": "2022-09-08T10:13:51.574228Z"
    },
    "hidden": true
   },
   "outputs": [],
   "source": [
    "ss = StandardScaler()\n",
    "\n",
    "# annual_premium -> bem parecido com uma normal\n",
    "df5['annual_premium']  = ss.fit_transform( df5[['annual_premium']].values )\n",
    "pickle.dump( ss, open( path +'/src/features/annual_premium_scaler.pkl', 'wb' ) )"
   ]
  },
  {
   "cell_type": "markdown",
   "id": "086dca41",
   "metadata": {
    "hidden": true
   },
   "source": [
    "## 5.2. Rescaling"
   ]
  },
  {
   "cell_type": "code",
   "execution_count": 33,
   "id": "4c385268",
   "metadata": {
    "ExecuteTime": {
     "end_time": "2022-09-08T10:13:51.682139Z",
     "start_time": "2022-09-08T10:13:51.636371Z"
    },
    "hidden": true
   },
   "outputs": [],
   "source": [
    "mms_age = MinMaxScaler()\n",
    "mms_vintage = MinMaxScaler()\n",
    "\n",
    "\n",
    "# age -> Não é muito próxima de uma normal \n",
    "df5['age'] = mms_age.fit_transform( df5[['age']].values )\n",
    "pickle.dump( mms_age, open( path +'/src/features/mms_age_scaler.pkl', 'wb' ) )\n",
    "\n",
    "# vintage -> Só vou reescalar, não aparenta ser útil\n",
    "df5['vintage'] = mms_vintage.fit_transform( df5[['vintage']].values )\n",
    "pickle.dump( mms_vintage, open( path +'/src/features/mms_vintage_scaler.pkl', 'wb' ) )"
   ]
  },
  {
   "cell_type": "markdown",
   "id": "7ab60805",
   "metadata": {
    "hidden": true
   },
   "source": [
    "## 5.3. Encoder"
   ]
  },
  {
   "cell_type": "code",
   "execution_count": 34,
   "id": "6da0bb5f",
   "metadata": {
    "ExecuteTime": {
     "end_time": "2022-09-08T10:13:51.825148Z",
     "start_time": "2022-09-08T10:13:51.684133Z"
    },
    "hidden": true
   },
   "outputs": [],
   "source": [
    "# gender -  One Hot Encoding /  Target Encoding\n",
    "target_encode_gender = df5.groupby('gender')['response'].mean()\n",
    "df5.loc[:, 'gender'] = df5['gender'].map( target_encode_gender )\n",
    "pickle.dump( target_encode_gender, open( path +'/src/features/target_encode_gender_scaler.pkl', 'wb' ) )\n",
    "\n",
    "# region_code - Frequency Encoding, ou Target Encoding, ou Weighted Target Encoding\n",
    "target_encode_region_code = df5.groupby( 'region_code' )['response'].mean()\n",
    "df5.loc[:, 'region_code'] = df5['region_code'].map( target_encode_region_code )\n",
    "pickle.dump( target_encode_region_code, open( path +'/src/features/target_encode_region_code_scaler.pkl', 'wb' ) )\n",
    "\n",
    "# vehicle_age - One Hot Encoding / ORDER ENCODING / Frequence Encoding\n",
    "df5 = pd.get_dummies( df5, prefix='vehicle_age', columns=['vehicle_age'])\n",
    "\n",
    "# policy_sales_channel - Frequency Encoding\n",
    "fe_policy_sales_channel = df5.groupby('policy_sales_channel').size() /  len(df5)\n",
    "df5.loc[:, 'policy_sales_channel'] = df5['policy_sales_channel'].map( fe_policy_sales_channel )\n",
    "pickle.dump( fe_policy_sales_channel, open( path +'/src/features/fe_policy_sales_channel_scaler.pkl', 'wb' ) )"
   ]
  },
  {
   "cell_type": "markdown",
   "id": "38dad401",
   "metadata": {
    "ExecuteTime": {
     "end_time": "2022-08-17T00:56:38.160991Z",
     "start_time": "2022-08-17T00:56:38.154011Z"
    },
    "hidden": true
   },
   "source": [
    "## 5.4. Preparação dos dados de Validação"
   ]
  },
  {
   "cell_type": "code",
   "execution_count": 35,
   "id": "6a6099c0",
   "metadata": {
    "ExecuteTime": {
     "end_time": "2022-09-08T10:13:51.903274Z",
     "start_time": "2022-09-08T10:13:51.826077Z"
    },
    "hidden": true
   },
   "outputs": [],
   "source": [
    "# gender \n",
    "x_validation.loc[:, 'gender'] = x_validation['gender'].map( target_encode_gender )\n",
    "\n",
    "# age\n",
    "x_validation.loc[:, 'age'] = mms_age.fit_transform( x_validation[['age']].values )\n",
    "\n",
    "# region_code\n",
    "x_validation.loc[ :, 'region_code'] = x_validation['region_code'].map( target_encode_region_code )\n",
    "\n",
    "# vehicle_age - One Hot Encoding / ORDER ENCODING / Frequence Encoding\n",
    "x_validation = pd.get_dummies( x_validation, prefix='vehicle_age', columns=['vehicle_age'])\n",
    "\n",
    "# annual_premium\n",
    "x_validation.loc[:, 'annual_premium'] = ss.fit_transform( x_validation[['annual_premium']].values)\n",
    "\n",
    "# policy_sales_channel - Frequency Encoding\n",
    "x_validation.loc[:, 'policy_sales_channel'] = x_validation['policy_sales_channel'].map( fe_policy_sales_channel )\n",
    "\n",
    "# vintage\n",
    "x_validation.loc[:, 'vintage'] = mms_vintage.fit_transform( x_validation[['vintage']].values )\n",
    "\n",
    "# fillna\n",
    "x_validation = x_validation.fillna( 0 )"
   ]
  },
  {
   "cell_type": "markdown",
   "id": "d924b390",
   "metadata": {
    "heading_collapsed": true
   },
   "source": [
    "# 6.0. SELEÇÃO DE ATRIBUTOS"
   ]
  },
  {
   "cell_type": "markdown",
   "id": "5d037acd",
   "metadata": {
    "hidden": true
   },
   "source": [
    "## 6.2. Importancia das Features"
   ]
  },
  {
   "cell_type": "code",
   "execution_count": 36,
   "id": "b9aae10e",
   "metadata": {
    "ExecuteTime": {
     "end_time": "2022-09-08T10:14:27.238108Z",
     "start_time": "2022-09-08T10:13:51.904874Z"
    },
    "hidden": true
   },
   "outputs": [
    {
     "data": {
      "text/html": [
       "<style>#sk-container-id-1 {color: black;background-color: white;}#sk-container-id-1 pre{padding: 0;}#sk-container-id-1 div.sk-toggleable {background-color: white;}#sk-container-id-1 label.sk-toggleable__label {cursor: pointer;display: block;width: 100%;margin-bottom: 0;padding: 0.3em;box-sizing: border-box;text-align: center;}#sk-container-id-1 label.sk-toggleable__label-arrow:before {content: \"▸\";float: left;margin-right: 0.25em;color: #696969;}#sk-container-id-1 label.sk-toggleable__label-arrow:hover:before {color: black;}#sk-container-id-1 div.sk-estimator:hover label.sk-toggleable__label-arrow:before {color: black;}#sk-container-id-1 div.sk-toggleable__content {max-height: 0;max-width: 0;overflow: hidden;text-align: left;background-color: #f0f8ff;}#sk-container-id-1 div.sk-toggleable__content pre {margin: 0.2em;color: black;border-radius: 0.25em;background-color: #f0f8ff;}#sk-container-id-1 input.sk-toggleable__control:checked~div.sk-toggleable__content {max-height: 200px;max-width: 100%;overflow: auto;}#sk-container-id-1 input.sk-toggleable__control:checked~label.sk-toggleable__label-arrow:before {content: \"▾\";}#sk-container-id-1 div.sk-estimator input.sk-toggleable__control:checked~label.sk-toggleable__label {background-color: #d4ebff;}#sk-container-id-1 div.sk-label input.sk-toggleable__control:checked~label.sk-toggleable__label {background-color: #d4ebff;}#sk-container-id-1 input.sk-hidden--visually {border: 0;clip: rect(1px 1px 1px 1px);clip: rect(1px, 1px, 1px, 1px);height: 1px;margin: -1px;overflow: hidden;padding: 0;position: absolute;width: 1px;}#sk-container-id-1 div.sk-estimator {font-family: monospace;background-color: #f0f8ff;border: 1px dotted black;border-radius: 0.25em;box-sizing: border-box;margin-bottom: 0.5em;}#sk-container-id-1 div.sk-estimator:hover {background-color: #d4ebff;}#sk-container-id-1 div.sk-parallel-item::after {content: \"\";width: 100%;border-bottom: 1px solid gray;flex-grow: 1;}#sk-container-id-1 div.sk-label:hover label.sk-toggleable__label {background-color: #d4ebff;}#sk-container-id-1 div.sk-serial::before {content: \"\";position: absolute;border-left: 1px solid gray;box-sizing: border-box;top: 0;bottom: 0;left: 50%;z-index: 0;}#sk-container-id-1 div.sk-serial {display: flex;flex-direction: column;align-items: center;background-color: white;padding-right: 0.2em;padding-left: 0.2em;position: relative;}#sk-container-id-1 div.sk-item {position: relative;z-index: 1;}#sk-container-id-1 div.sk-parallel {display: flex;align-items: stretch;justify-content: center;background-color: white;position: relative;}#sk-container-id-1 div.sk-item::before, #sk-container-id-1 div.sk-parallel-item::before {content: \"\";position: absolute;border-left: 1px solid gray;box-sizing: border-box;top: 0;bottom: 0;left: 50%;z-index: -1;}#sk-container-id-1 div.sk-parallel-item {display: flex;flex-direction: column;z-index: 1;position: relative;background-color: white;}#sk-container-id-1 div.sk-parallel-item:first-child::after {align-self: flex-end;width: 50%;}#sk-container-id-1 div.sk-parallel-item:last-child::after {align-self: flex-start;width: 50%;}#sk-container-id-1 div.sk-parallel-item:only-child::after {width: 0;}#sk-container-id-1 div.sk-dashed-wrapped {border: 1px dashed gray;margin: 0 0.4em 0.5em 0.4em;box-sizing: border-box;padding-bottom: 0.4em;background-color: white;}#sk-container-id-1 div.sk-label label {font-family: monospace;font-weight: bold;display: inline-block;line-height: 1.2em;}#sk-container-id-1 div.sk-label-container {text-align: center;}#sk-container-id-1 div.sk-container {/* jupyter's `normalize.less` sets `[hidden] { display: none; }` but bootstrap.min.css set `[hidden] { display: none !important; }` so we also need the `!important` here to be able to override the default hidden behavior on the sphinx rendered scikit-learn.org. See: https://github.com/scikit-learn/scikit-learn/issues/21755 */display: inline-block !important;position: relative;}#sk-container-id-1 div.sk-text-repr-fallback {display: none;}</style><div id=\"sk-container-id-1\" class=\"sk-top-container\"><div class=\"sk-text-repr-fallback\"><pre>ExtraTreesClassifier(n_estimators=250, n_jobs=-1, random_state=0)</pre><b>In a Jupyter environment, please rerun this cell to show the HTML representation or trust the notebook. <br />On GitHub, the HTML representation is unable to render, please try loading this page with nbviewer.org.</b></div><div class=\"sk-container\" hidden><div class=\"sk-item\"><div class=\"sk-estimator sk-toggleable\"><input class=\"sk-toggleable__control sk-hidden--visually\" id=\"sk-estimator-id-1\" type=\"checkbox\" checked><label for=\"sk-estimator-id-1\" class=\"sk-toggleable__label sk-toggleable__label-arrow\">ExtraTreesClassifier</label><div class=\"sk-toggleable__content\"><pre>ExtraTreesClassifier(n_estimators=250, n_jobs=-1, random_state=0)</pre></div></div></div></div></div>"
      ],
      "text/plain": [
       "ExtraTreesClassifier(n_estimators=250, n_jobs=-1, random_state=0)"
      ]
     },
     "execution_count": 36,
     "metadata": {},
     "output_type": "execute_result"
    }
   ],
   "source": [
    "# Definição do Modelo\n",
    "forest = ensemble.ExtraTreesClassifier( n_estimators=250, random_state=0, n_jobs=-1 )\n",
    "\n",
    "# Data Preparation\n",
    "x_train_n = df5.drop( ['id', 'response'], axis=1 )\n",
    "y_train_n = y_train.values\n",
    "forest.fit( x_train_n, y_train_n )"
   ]
  },
  {
   "cell_type": "code",
   "execution_count": 37,
   "id": "c2da2d3d",
   "metadata": {
    "ExecuteTime": {
     "end_time": "2022-09-08T10:14:31.943098Z",
     "start_time": "2022-09-08T10:14:27.251074Z"
    },
    "hidden": true,
    "scrolled": true
   },
   "outputs": [
    {
     "name": "stdout",
     "output_type": "stream",
     "text": [
      "Feature Ranking:\n",
      "                         feature  importance\n",
      "0                        vintage    0.271869\n",
      "0                 annual_premium    0.245321\n",
      "0                            age    0.164901\n",
      "0                    region_code    0.105511\n",
      "0                 vehicle_damage    0.065830\n",
      "0           policy_sales_channel    0.059574\n",
      "0             previously_insured    0.058477\n",
      "0       vehicle_age_below_1_year    0.014450\n",
      "0  vehicle_age_between_1_2_years    0.006141\n",
      "0                         gender    0.004993\n",
      "0       vehicle_age_over_2_years    0.002447\n",
      "0                driving_license    0.000487\n"
     ]
    },
    {
     "data": {
      "image/png": "[encoded data removed]",
      "text/plain": [
       "<Figure size 432x288 with 1 Axes>"
      ]
     },
     "metadata": {
      "needs_background": "light"
     },
     "output_type": "display_data"
    }
   ],
   "source": [
    "importances  = forest.feature_importances_\n",
    "std = np.std( [tree.feature_importances_ for tree in forest.estimators_], axis=0)\n",
    "indices = np.argsort( importances )[::-1]\n",
    "\n",
    "\n",
    "# imprimindo o ranking das features\n",
    "print(\"Feature Ranking:\")\n",
    "df = pd.DataFrame()\n",
    "\n",
    "for i, j in zip( x_train_n, forest.feature_importances_ ):\n",
    "    aux = pd.DataFrame( {'feature': i, 'importance': j}, index=[0])\n",
    "    df = pd.concat( [df,aux], axis=0 )\n",
    "\n",
    "    \n",
    "print( df.sort_values( 'importance', ascending=False ) )\n",
    "\n",
    "# Plot the impurity-based feature importances of the forest\n",
    "plt.figure()\n",
    "plt.title(\"Feature importances\")\n",
    "plt.bar(range(x_train_n.shape[1]), importances[indices], color=\"r\", yerr=std[indices], align=\"center\")\n",
    "plt.xticks(range(x_train_n.shape[1]), indices)\n",
    "plt.xlim([-1, x_train_n.shape[1]])\n",
    "plt.show()"
   ]
  },
  {
   "cell_type": "markdown",
   "id": "13dcfe4e",
   "metadata": {
    "heading_collapsed": true
   },
   "source": [
    "# 7.0. MODELO DE MACHINE LEARNING "
   ]
  },
  {
   "cell_type": "code",
   "execution_count": 38,
   "id": "21727d85",
   "metadata": {
    "ExecuteTime": {
     "end_time": "2022-09-08T10:14:32.145812Z",
     "start_time": "2022-09-08T10:14:31.947087Z"
    },
    "hidden": true
   },
   "outputs": [],
   "source": [
    "cols_selected = ['vintage', 'annual_premium', 'age', 'region_code', 'vehicle_damage', 'policy_sales_channel', 'previously_insured' ]\n",
    "\n",
    "x_train =  df5[ cols_selected ]\n",
    "x_val = x_validation[ cols_selected ]\n",
    "y_val = y_validation.copy()"
   ]
  },
  {
   "cell_type": "markdown",
   "id": "c48135ca",
   "metadata": {
    "hidden": true
   },
   "source": [
    "## 7.1. KNN"
   ]
  },
  {
   "cell_type": "code",
   "execution_count": 39,
   "id": "abf16078",
   "metadata": {
    "ExecuteTime": {
     "end_time": "2022-09-08T10:14:43.626705Z",
     "start_time": "2022-09-08T10:14:32.149722Z"
    },
    "hidden": true
   },
   "outputs": [],
   "source": [
    "# Definição do Modelo\n",
    "knn_model =  neighbors.KNeighborsClassifier( n_neighbors=7 )\n",
    "\n",
    "# treinamento do modelo\n",
    "knn_model.fit( x_train, y_train )\n",
    "\n",
    "# Predição do modelo -> Medindo o poder de GENERALIZAÇÃO DO MODELO\n",
    "yhat_knn =  knn_model.predict_proba( x_val ) "
   ]
  },
  {
   "cell_type": "code",
   "execution_count": 60,
   "id": "2d4f6d73",
   "metadata": {
    "ExecuteTime": {
     "end_time": "2022-09-08T10:32:36.373293Z",
     "start_time": "2022-09-08T10:32:36.045394Z"
    },
    "cell_style": "center",
    "hidden": true,
    "hide_input": false
   },
   "outputs": [
    {
     "data": {
      "text/plain": [
       "<AxesSubplot:title={'center':'Lift CUrve Logistic Regressor'}, xlabel='Percentage of sample', ylabel='Lift'>"
      ]
     },
     "execution_count": 60,
     "metadata": {},
     "output_type": "execute_result"
    },
    {
     "data": {
      "image/png": "[encoded data removed]",
      "text/plain": [
       "<Figure size 864x432 with 2 Axes>"
      ]
     },
     "metadata": {
      "needs_background": "light"
     },
     "output_type": "display_data"
    }
   ],
   "source": [
    "# Ganho Acumulado\n",
    "fig, axs = plt.subplots(ncols=2, figsize=(12, 6))\n",
    "skplt.metrics.plot_cumulative_gain( y_val, yhat_knn, ax=axs[0], title='Cumulative Gain - KNN' )\n",
    "skplt.metrics.plot_lift_curve(y_val, yhat_knn, ax=axs[1], title='Lift CUrve Logistic Regressor')"
   ]
  },
  {
   "cell_type": "code",
   "execution_count": 41,
   "id": "454b743a",
   "metadata": {
    "ExecuteTime": {
     "end_time": "2022-09-08T10:14:44.952775Z",
     "start_time": "2022-09-08T10:14:43.865515Z"
    },
    "cell_style": "center",
    "hidden": true,
    "hide_input": false
   },
   "outputs": [
    {
     "data": {
      "image/png": "[encoded data removed]",
      "text/plain": [
       "<Figure size 432x288 with 1 Axes>"
      ]
     },
     "metadata": {
      "needs_background": "light"
     },
     "output_type": "display_data"
    }
   ],
   "source": [
    "# Definição do Modelo\n",
    "lr_model =  LogisticRegression( random_state=42 )\n",
    "\n",
    "# treinamento do modelo\n",
    "lr_model.fit( x_train, y_train )\n",
    "\n",
    "# Predição do modelo -> Medindo o poder de GENERALIZAÇÃO DO MODELO\n",
    "yhat_lr =  lr_model.predict_proba( x_val ) \n",
    "\n",
    "# Ganho Acumulado\n",
    "skplt.metrics.plot_cumulative_gain( y_val, yhat_lr )\n",
    "plt.title('Logistic Regression');"
   ]
  },
  {
   "cell_type": "code",
   "execution_count": null,
   "id": "069a574b",
   "metadata": {
    "hidden": true
   },
   "outputs": [],
   "source": []
  },
  {
   "cell_type": "markdown",
   "id": "ba3f95a5",
   "metadata": {
    "hidden": true,
    "hide_input": true
   },
   "source": [
    "## 8.0. Model Performance"
   ]
  },
  {
   "cell_type": "code",
   "execution_count": 42,
   "id": "85cc6744",
   "metadata": {
    "ExecuteTime": {
     "end_time": "2022-09-08T10:14:44.968736Z",
     "start_time": "2022-09-08T10:14:44.954773Z"
    },
    "hidden": true,
    "hide_input": false
   },
   "outputs": [],
   "source": [
    "def precision_at_k( data, k=2000):\n",
    "    # reset index\n",
    "    data = data.reset_index( drop=True ) \n",
    "\n",
    "    # criando ranking ordenado\n",
    "    data['ranking'] = data.index + 1\n",
    "\n",
    "    # Precision at k\n",
    "    data['precision_at_k'] = data['response'].cumsum() / data['ranking']\n",
    "    \n",
    "    return data.loc[k, 'precision_at_k']"
   ]
  },
  {
   "cell_type": "code",
   "execution_count": 43,
   "id": "1576f111",
   "metadata": {
    "ExecuteTime": {
     "end_time": "2022-09-08T10:14:45.001032Z",
     "start_time": "2022-09-08T10:14:44.969734Z"
    },
    "cell_style": "center",
    "hidden": true,
    "hide_input": false
   },
   "outputs": [],
   "source": [
    "def recall_at_k( data, k=2000):\n",
    "    # reset index\n",
    "    data = data.reset_index( drop=True ) \n",
    "\n",
    "    # criando ranking ordenado\n",
    "    data['ranking'] = data.index + 1\n",
    "\n",
    "    # Precision at k\n",
    "    data['recall_at_k'] = data['response'].cumsum() / data['response'].sum()\n",
    "    \n",
    "    return data.loc[k, 'recall_at_k']\n"
   ]
  },
  {
   "cell_type": "code",
   "execution_count": 44,
   "id": "17669150",
   "metadata": {
    "ExecuteTime": {
     "end_time": "2022-09-08T10:14:45.175270Z",
     "start_time": "2022-09-08T10:14:45.003534Z"
    },
    "hidden": true
   },
   "outputs": [
    {
     "name": "stdout",
     "output_type": "stream",
     "text": [
      "Precisão até K: 0.29411764705882354\n",
      "Recall até K: 0.0016345210853220007\n"
     ]
    }
   ],
   "source": [
    "# copy data\n",
    "df8 =  x_validation.copy()\n",
    "df8['response'] = y_validation.copy()\n",
    "\n",
    "# propensity score\n",
    "df8['propensity_score'] = yhat_knn[:,1].tolist()\n",
    "\n",
    "# ordenando clientes pelo score de propensão\n",
    "df8 = df8.sort_values('propensity_score', ascending=False)\n",
    "\n",
    "# Calculando a precisao até k\n",
    "# Predicoes Corretas até K /  Total de predicoes realizadas\n",
    "precision_at_50 = precision_at_k(df8, k=50)\n",
    "print( f'Precisão até K: {precision_at_50}' )\n",
    "\n",
    "# Calculando recall até k -> predicoes corretas até k / todos eemplos verdadeiros\n",
    "recall_at_50 = recall_at_k(df8, k=50)\n",
    "print( f'Recall até K: {recall_at_50}' )"
   ]
  },
  {
   "cell_type": "code",
   "execution_count": 45,
   "id": "02318d0f",
   "metadata": {
    "ExecuteTime": {
     "end_time": "2022-09-08T10:14:45.222792Z",
     "start_time": "2022-09-08T10:14:45.177265Z"
    },
    "hidden": true
   },
   "outputs": [
    {
     "data": {
      "text/html": [
       "<div>\n",
       "<style scoped>\n",
       "    .dataframe tbody tr th:only-of-type {\n",
       "        vertical-align: middle;\n",
       "    }\n",
       "\n",
       "    .dataframe tbody tr th {\n",
       "        vertical-align: top;\n",
       "    }\n",
       "\n",
       "    .dataframe thead th {\n",
       "        text-align: right;\n",
       "    }\n",
       "</style>\n",
       "<table border=\"1\" class=\"dataframe\">\n",
       "  <thead>\n",
       "    <tr style=\"text-align: right;\">\n",
       "      <th></th>\n",
       "      <th>id</th>\n",
       "      <th>response</th>\n",
       "      <th>propensity_score</th>\n",
       "      <th>ranking</th>\n",
       "      <th>precision_at_k</th>\n",
       "    </tr>\n",
       "  </thead>\n",
       "  <tbody>\n",
       "    <tr>\n",
       "      <th>0</th>\n",
       "      <td>146128</td>\n",
       "      <td>0</td>\n",
       "      <td>1.0</td>\n",
       "      <td>1</td>\n",
       "      <td>0.0</td>\n",
       "    </tr>\n",
       "    <tr>\n",
       "      <th>1</th>\n",
       "      <td>264895</td>\n",
       "      <td>0</td>\n",
       "      <td>1.0</td>\n",
       "      <td>2</td>\n",
       "      <td>0.0</td>\n",
       "    </tr>\n",
       "    <tr>\n",
       "      <th>2</th>\n",
       "      <td>320340</td>\n",
       "      <td>0</td>\n",
       "      <td>1.0</td>\n",
       "      <td>3</td>\n",
       "      <td>0.0</td>\n",
       "    </tr>\n",
       "    <tr>\n",
       "      <th>3</th>\n",
       "      <td>37211</td>\n",
       "      <td>0</td>\n",
       "      <td>1.0</td>\n",
       "      <td>4</td>\n",
       "      <td>0.0</td>\n",
       "    </tr>\n",
       "    <tr>\n",
       "      <th>4</th>\n",
       "      <td>78968</td>\n",
       "      <td>1</td>\n",
       "      <td>1.0</td>\n",
       "      <td>5</td>\n",
       "      <td>0.2</td>\n",
       "    </tr>\n",
       "  </tbody>\n",
       "</table>\n",
       "</div>"
      ],
      "text/plain": [
       "       id  response  propensity_score  ranking  precision_at_k\n",
       "0  146128         0               1.0        1             0.0\n",
       "1  264895         0               1.0        2             0.0\n",
       "2  320340         0               1.0        3             0.0\n",
       "3   37211         0               1.0        4             0.0\n",
       "4   78968         1               1.0        5             0.2"
      ]
     },
     "execution_count": 45,
     "metadata": {},
     "output_type": "execute_result"
    }
   ],
   "source": [
    "# reset index\n",
    "df8 = df8.reset_index( drop=True ) \n",
    "\n",
    "# criando ranking ordenado\n",
    "df8['ranking'] = df8.index + 1\n",
    "\n",
    "# Precision at k\n",
    "df8['precision_at_k'] = df8['response'].cumsum() / df8['ranking']\n",
    "\n",
    "# df8\n",
    "df8[['id', 'response', 'propensity_score', 'ranking', 'precision_at_k']].reset_index( drop=True ).head()"
   ]
  },
  {
   "cell_type": "code",
   "execution_count": null,
   "id": "caf319a1",
   "metadata": {
    "hidden": true
   },
   "outputs": [],
   "source": []
  },
  {
   "cell_type": "code",
   "execution_count": 46,
   "id": "ba5cb402",
   "metadata": {
    "ExecuteTime": {
     "end_time": "2022-09-08T10:14:45.522609Z",
     "start_time": "2022-09-08T10:14:45.224788Z"
    },
    "hidden": true
   },
   "outputs": [],
   "source": [
    "dt = DecisionTreeClassifier( max_depth=3,splitter=\"best\")\n",
    "\n",
    "dt.fit(x_train, y_train)\n",
    "\n",
    "yhat_dt = dt.predict_proba(x_val)"
   ]
  },
  {
   "cell_type": "code",
   "execution_count": 47,
   "id": "e2dfbc55",
   "metadata": {
    "ExecuteTime": {
     "end_time": "2022-09-08T10:14:45.762006Z",
     "start_time": "2022-09-08T10:14:45.524645Z"
    },
    "hidden": true
   },
   "outputs": [
    {
     "data": {
      "image/png": "[encoded data removed]",
      "text/plain": [
       "<Figure size 432x288 with 1 Axes>"
      ]
     },
     "metadata": {
      "needs_background": "light"
     },
     "output_type": "display_data"
    }
   ],
   "source": [
    "# Ganho Acumulado\n",
    "skplt.metrics.plot_cumulative_gain( y_val, yhat_dt )\n",
    "plt.title('Decision Tree');"
   ]
  },
  {
   "cell_type": "code",
   "execution_count": null,
   "id": "dca123f5",
   "metadata": {
    "hidden": true
   },
   "outputs": [],
   "source": []
  },
  {
   "cell_type": "code",
   "execution_count": null,
   "id": "1ef0ce1b",
   "metadata": {
    "hidden": true
   },
   "outputs": [],
   "source": []
  },
  {
   "cell_type": "code",
   "execution_count": null,
   "id": "1e67da00",
   "metadata": {
    "hidden": true
   },
   "outputs": [],
   "source": []
  },
  {
   "cell_type": "code",
   "execution_count": null,
   "id": "aa5288be",
   "metadata": {
    "hidden": true
   },
   "outputs": [],
   "source": []
  },
  {
   "cell_type": "code",
   "execution_count": null,
   "id": "6ee7f059",
   "metadata": {
    "hidden": true
   },
   "outputs": [],
   "source": []
  },
  {
   "cell_type": "code",
   "execution_count": null,
   "id": "28ee0fc7",
   "metadata": {
    "hidden": true
   },
   "outputs": [],
   "source": []
  },
  {
   "cell_type": "code",
   "execution_count": null,
   "id": "e1800c0e",
   "metadata": {
    "hidden": true
   },
   "outputs": [],
   "source": []
  },
  {
   "cell_type": "code",
   "execution_count": null,
   "id": "98c16fbb",
   "metadata": {
    "hidden": true
   },
   "outputs": [],
   "source": []
  },
  {
   "cell_type": "code",
   "execution_count": null,
   "id": "0990e46a",
   "metadata": {
    "hidden": true
   },
   "outputs": [],
   "source": []
  },
  {
   "cell_type": "code",
   "execution_count": null,
   "id": "90f079d3",
   "metadata": {
    "hidden": true
   },
   "outputs": [],
   "source": []
  },
  {
   "cell_type": "code",
   "execution_count": 48,
   "id": "17975bc0",
   "metadata": {
    "ExecuteTime": {
     "end_time": "2022-09-08T10:14:45.777963Z",
     "start_time": "2022-09-08T10:14:45.765962Z"
    },
    "hidden": true
   },
   "outputs": [],
   "source": [
    "# # ExtraTree\n",
    "\n",
    "# # Definição do Modelo\n",
    "# et = ensemble.ExtraTreesClassifier( n_estimators=1000, n_jobs=-1, random_state = 42)\n",
    "\n",
    "# # Treinamento do Modelo \n",
    "# et.fit( x_train, y_train)\n",
    "\n",
    "# # Precição do Modelo\n",
    "# yhat_etet.predict_proba( x_val )\n",
    "\n",
    "# # Ganho Acumulado\n",
    "# skplt.metrics.plot_cumulative_gain( y_val, yhat_knn )"
   ]
  },
  {
   "cell_type": "markdown",
   "id": "5a2dcd85",
   "metadata": {
    "hidden": true
   },
   "source": [
    "\n",
    "# 8.0. HYPERPARAMETER FINETUNING"
   ]
  },
  {
   "cell_type": "markdown",
   "id": "8f613b84",
   "metadata": {},
   "source": [
    "# 9.0. TRADUÇÃO E INTERPRETAÇÃO DO MODELO"
   ]
  },
  {
   "cell_type": "markdown",
   "id": "2e57fec4",
   "metadata": {
    "heading_collapsed": true
   },
   "source": [
    "# 10.0. DEPLOY DO MODELO"
   ]
  },
  {
   "cell_type": "code",
   "execution_count": 50,
   "id": "bd6ef8ae",
   "metadata": {
    "ExecuteTime": {
     "end_time": "2022-09-08T10:14:46.618766Z",
     "start_time": "2022-09-08T10:14:46.575498Z"
    },
    "hidden": true
   },
   "outputs": [],
   "source": [
    "class HealthInsurance:\n",
    "    def __init__( self ):\n",
    "        self.home_path='C:/Users/ander/repos/Health_Insurance_Cross_Sell'\n",
    "        self.annual_premium_scaler = pickle.load( open( self.home_path + 'src/features/annual_premium_scaler.pkl'))\n",
    "        self.age_scaler = pickle.load( open( self.home_path + 'src/features/age_scaler.pkl' ) ) \n",
    "        self.vintage_scaler = pickle.load( open( self.home_path + 'src/features/vintage_scaler.pkl' ) ) \n",
    "        self.target_encode_gender_scaler = pickle.load( open( self.home_path + 'src/features/target_encode_gender_scaler.pkl' ) )\n",
    "        self.target_encode_region_code_scaler = pickle.load( open( self.home_path + 'src/features/target_encode_region_code_scaler.pkl' ) )\n",
    "        self.fe_policy_sales_channel_scaler =   pickle.load( open( self.home_path + 'src/features/fe_policy_sales_channel_scaler.pkl' ) )\n",
    "        \n",
    "        \n",
    "    def data_cleaning( df1 ):\n",
    "        df1.region_code = df1.region_code.astype( \"int64\")\n",
    "        df1.annual_premium = df1.annual_premium.astype( \"int64\")\n",
    "        df1.policy_sales_channel = df1.policy_sales_channel.astype( \"int64\")\n",
    "        \n",
    "        return df1\n",
    "\n",
    "    def feature_engineering( df2 ):\n",
    "        # vehicle_age\n",
    "        df2['vehicle_age'] = df2['vehicle_age'].apply( lambda x: 'over_2_years' if x == '> 2 Years' else 'below_1_year' \n",
    "                                                      if x == '< 1 Year' else 'between_1_2_years' )\n",
    "        # vehicle demage\n",
    "        df2['vehicle_damage'] = df2['vehicle_damage'].apply( lambda x: 1 if x == 'Yes' else 0 )\n",
    "        \n",
    "        return df2\n",
    "    \n",
    "    def data_preparation( df3 ):\n",
    "        # annual_premium -> bem parecido com uma normal\n",
    "        df5['annual_premium']  = self.annual_premium_scaler.transform( df5[['annual_premium']].values )\n",
    "\n",
    "        # age -> Não é muito próxima de uma normal \n",
    "        df5['age'] = self.age_scaler.transform( df5[['age']].values )\n",
    "\n",
    "        # vintage -> Só vou reescalar, não aparenta ser útil\n",
    "        df5['vintage'] = self.vintage_scaler.transform( df5[['vintage']].values )\n",
    "\n",
    "        # gender -  One Hot Encoding /  Target Encoding\n",
    "        df5.loc[:, 'gender'] = df5['gender'].map( self.target_encode_gender_scaler )\n",
    "        \n",
    "        # region_code - Frequency Encoding, ou Target Encoding, ou Weighted Target Encoding\n",
    "        \n",
    "        df5.loc[:, 'region_code'] = df5['region_code'].map( self.target_encode_region_code_scaler )\n",
    "\n",
    "        # vehicle_age - One Hot Encoding / ORDER ENCODING / Frequence Encoding\n",
    "        df5 = pd.get_dummies( df5, prefix='vehicle_age', columns=['vehicle_age'])\n",
    "\n",
    "        # policy_sales_channel - Frequency Encoding\n",
    "        df5.loc[:, 'policy_sales_channel'] = df5['policy_sales_channel'].map( self.fe_policy_sales_channel_scaler )\n",
    "\n",
    "    \n",
    "        # 6.0. SELEÇÃO DE ATRIBUTOS\n",
    "        cols_selected = ['vintage', 'annual_premium', 'age', 'region_code', 'vehicle_damage', 'policy_sales_channel', 'previously_insured' ]\n",
    "        \n",
    "        return df5[cols_selected]\n",
    "    \n",
    "        def get_prediction( self, model, original_data, test_data ): \n",
    "            # predicao do modelo\n",
    "            pred = model.predict_proba( test_data )\n",
    "            \n",
    "            # juntando a predicao com o modelo real\n",
    "            original_data['prediction'] = pred\n",
    "            \n",
    "            return original_data.to_json( orient='records', date_format='iso')"
   ]
  }
 ],
 "metadata": {
  "hide_input": false,
  "kernelspec": {
   "display_name": "Python 3 (ipykernel)",
   "language": "python",
   "name": "python3"
  },
  "language_info": {
   "codemirror_mode": {
    "name": "ipython",
    "version": 3
   },
   "file_extension": ".py",
   "mimetype": "text/x-python",
   "name": "python",
   "nbconvert_exporter": "python",
   "pygments_lexer": "ipython3",
   "version": "3.9.12"
  },
  "toc": {
   "base_numbering": 1,
   "nav_menu": {},
   "number_sections": false,
   "sideBar": true,
   "skip_h1_title": false,
   "title_cell": "Table of Contents",
   "title_sidebar": "Contents",
   "toc_cell": false,
   "toc_position": {
    "height": "calc(100% - 180px)",
    "left": "10px",
    "top": "150px",
    "width": "310px"
   },
   "toc_section_display": true,
   "toc_window_display": false
  }
 },
 "nbformat": 4,
 "nbformat_minor": 5
}
